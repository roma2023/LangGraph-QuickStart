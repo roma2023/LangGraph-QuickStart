{
  "nbformat": 4,
  "nbformat_minor": 0,
  "metadata": {
    "colab": {
      "provenance": []
    },
    "kernelspec": {
      "name": "python3",
      "display_name": "Python 3"
    },
    "language_info": {
      "name": "python"
    }
  },
  "cells": [
    {
      "cell_type": "markdown",
      "source": [
        "# Quick Start with LangGraph"
      ],
      "metadata": {
        "id": "Jl4NKg906gTd"
      }
    },
    {
      "cell_type": "markdown",
      "source": [
        "In this comprehensive quick start, we will build a support chatbot in LangGraph that can:\n",
        "\n",
        "* Answer common questions by searching the web\n",
        "* Maintain conversation state across calls\n",
        "* Route complex queries to a human for review\n",
        "* Use custom state to control its behavior\n",
        "* Rewind and explore alternative conversation paths\n",
        "\n",
        "We'll start with a basic chatbot and progressively add more sophisticated capabilities, introducing key LangGraph concepts along the way."
      ],
      "metadata": {
        "id": "nNjm84UX6Zgr"
      }
    },
    {
      "cell_type": "markdown",
      "source": [
        "## Setup"
      ],
      "metadata": {
        "id": "XPrgFMR86m3P"
      }
    },
    {
      "cell_type": "code",
      "source": [
        "%%capture --no-stderr\n",
        "%pip install -U langgraph langsmith\n",
        "\n",
        "# Used for this tutorial; not a requirement for LangGraph\n",
        "%pip install -U langchain_openai"
      ],
      "metadata": {
        "id": "-qRO5oCq6pJZ"
      },
      "execution_count": 2,
      "outputs": []
    },
    {
      "cell_type": "markdown",
      "source": [
        "Next, set your API keys:"
      ],
      "metadata": {
        "id": "_QAcPeWW7COw"
      }
    },
    {
      "cell_type": "code",
      "source": [
        "import getpass\n",
        "import os\n",
        "\n",
        "\n",
        "def _set_env(var: str):\n",
        "    if not os.environ.get(var):\n",
        "        os.environ[var] = getpass.getpass(f\"{var}: \")\n",
        "\n",
        "\n",
        "_set_env(\"OPENAI_API_KEY\") # \"OPENAI_API_KEY\""
      ],
      "metadata": {
        "colab": {
          "base_uri": "https://localhost:8080/"
        },
        "id": "7xb2accM6fsJ",
        "outputId": "c3b8949e-4044-4d1b-8fe2-4bb4e9fc075f"
      },
      "execution_count": 5,
      "outputs": [
        {
          "name": "stdout",
          "output_type": "stream",
          "text": [
            "OPENAI_API_KEY: ··········\n"
          ]
        }
      ]
    },
    {
      "cell_type": "markdown",
      "source": [
        "(Encouraged) LangSmith makes it a lot easier to see what's going on \"under the hood.\""
      ],
      "metadata": {
        "id": "iRpVn30A7pCV"
      }
    },
    {
      "cell_type": "code",
      "source": [
        "_set_env(\"LANGSMITH_API_KEY\") #LANGSMITH_API_KEY\n",
        "os.environ[\"LANGCHAIN_TRACING_V2\"] = \"true\"\n",
        "os.environ[\"LANGCHAIN_PROJECT\"] = \"LangGraph Tutorial\""
      ],
      "metadata": {
        "colab": {
          "base_uri": "https://localhost:8080/"
        },
        "id": "5kRDLmI57jtr",
        "outputId": "9a7d2a7a-152e-45d4-bdea-7918943b1344"
      },
      "execution_count": 6,
      "outputs": [
        {
          "name": "stdout",
          "output_type": "stream",
          "text": [
            "LANGSMITH_API_KEY: ··········\n"
          ]
        }
      ]
    },
    {
      "cell_type": "markdown",
      "source": [
        "## Part 1: Build a Basic Chatbot"
      ],
      "metadata": {
        "id": "9CqLOllA8M8p"
      }
    },
    {
      "cell_type": "markdown",
      "source": [
        "We'll first create a simple chatbot using LangGraph. This chatbot will respond directly to user messages. Though simple, it will illustrate the core concepts of building with LangGraph. By the end of this section, you will have a built rudimentary chatbot.\n",
        "\n",
        "Start by creating a `StateGraph`. A `StateGraph` object defines the structure of our chatbot as a \"state machine\". We'll add nodes to represent the llm and functions our chatbot can call and edges to specify how the bot should transition between these functions."
      ],
      "metadata": {
        "id": "O1xMakby8ZO0"
      }
    },
    {
      "cell_type": "code",
      "source": [
        "from typing import Annotated\n",
        "\n",
        "from typing_extensions import TypedDict\n",
        "\n",
        "from langgraph.graph import StateGraph, START, END\n",
        "from langgraph.graph.message import add_messages\n",
        "\n",
        "\n",
        "class State(TypedDict):\n",
        "    # Messages have the type \"list\". The `add_messages` function\n",
        "    # in the annotation defines how this state key should be updated\n",
        "    # (in this case, it appends messages to the list, rather than overwriting them)\n",
        "    messages: Annotated[list, add_messages]\n",
        "\n",
        "\n",
        "graph_builder = StateGraph(State)"
      ],
      "metadata": {
        "id": "PtiEZnn98C2k"
      },
      "execution_count": 81,
      "outputs": []
    },
    {
      "cell_type": "markdown",
      "source": [
        "### **`Note`**:\n",
        "The first thing you do when you define a graph is define the State of the graph. The State consists of the schema of the graph as well as reducer functions which specify how to apply updates to the state. In our example State is a TypedDict with a single key: messages. The messages key is annotated with the add_messages reducer function, which tells LangGraph to append new messages to the existing list, rather than overwriting it. State keys without an annotation will be overwritten by each update, storing the most recent value. Check out this [conceptual guide](https://langchain-ai.github.io/langgraph/reference/graphs/?h=add+messages#add_messages) to learn more about state, reducers and other low-level concepts."
      ],
      "metadata": {
        "id": "f-LMS23eQgmj"
      }
    },
    {
      "cell_type": "markdown",
      "source": [
        "So now our graph knows two things:\n",
        "\n",
        "1. Every `node` we define will receive the current `State` as input and return a value that updates that state.\n",
        "2. `messages` will be appended to the current list, rather than directly overwritten. This is communicated via the prebuilt `add_messages` function in the `Annotated` syntax.\n",
        "\n",
        "Next, add a \"chatbot\" node. Nodes represent units of work. They are typically regular python functions."
      ],
      "metadata": {
        "id": "zXr_bR0ZRMX_"
      }
    },
    {
      "cell_type": "code",
      "source": [
        "from langchain_openai import ChatOpenAI\n",
        "\n",
        "llm = ChatOpenAI(model=\"gpt-4o-mini\")\n",
        "\n",
        "\n",
        "def chatbot(state: State):\n",
        "    return {\"messages\": [llm.invoke(state[\"messages\"])]}\n",
        "\n",
        "\n",
        "# The first argument is the unique node name\n",
        "# The second argument is the function or object that will be called whenever\n",
        "# the node is used.\n",
        "graph_builder.add_node(\"chatbot\", chatbot)"
      ],
      "metadata": {
        "id": "gezVdEaiP1qP"
      },
      "execution_count": 82,
      "outputs": []
    },
    {
      "cell_type": "markdown",
      "source": [
        "Notice how the chatbot node function takes the current `State` as input and returns an updated `messages` list. This is the basic pattern for all LangGraph node functions.\n",
        "\n",
        "The `add_messages` function in our State will append the llm's response messages to whatever `messages` are already in the state.\n",
        "\n",
        "Next, add an entry point. This tells our graph where to start its work each time we run it."
      ],
      "metadata": {
        "id": "6GrKdLJSSMZq"
      }
    },
    {
      "cell_type": "code",
      "source": [
        "graph_builder.add_edge(START, \"chatbot\")"
      ],
      "metadata": {
        "id": "zUOPgNsBSIup"
      },
      "execution_count": 8,
      "outputs": []
    },
    {
      "cell_type": "markdown",
      "source": [
        "\n",
        "Similarly, set a finish point. This instructs the graph \"any time this node is run, you can exit.\""
      ],
      "metadata": {
        "id": "VEs74xrwS_ir"
      }
    },
    {
      "cell_type": "code",
      "source": [
        "graph_builder.add_edge(\"chatbot\", END)"
      ],
      "metadata": {
        "id": "lNJeD4peS8m-"
      },
      "execution_count": 9,
      "outputs": []
    },
    {
      "cell_type": "markdown",
      "source": [
        "Finally, we'll want to be able to run our graph. To do so, call \"`compile()`\" on the graph builder. This creates a \"CompiledGraph\" we can use invoke on our state."
      ],
      "metadata": {
        "id": "6Na1J-rTTHpn"
      }
    },
    {
      "cell_type": "code",
      "source": [
        "graph = graph_builder.compile()"
      ],
      "metadata": {
        "id": "_lmRl3j5TDpV"
      },
      "execution_count": 10,
      "outputs": []
    },
    {
      "cell_type": "markdown",
      "source": [
        "You can visualize the graph using the get_graph method and one of the \"draw\" methods, like draw_ascii or draw_png. The draw methods each require additional dependencies."
      ],
      "metadata": {
        "id": "F3Nr7VgkTTm9"
      }
    },
    {
      "cell_type": "code",
      "source": [
        "from IPython.display import Image, display\n",
        "\n",
        "try:\n",
        "    display(Image(graph.get_graph().draw_mermaid_png()))\n",
        "except Exception:\n",
        "    # This requires some extra dependencies and is optional\n",
        "    pass"
      ],
      "metadata": {
        "colab": {
          "base_uri": "https://localhost:8080/",
          "height": 236
        },
        "id": "PIwhArB7TNg7",
        "outputId": "97ca806a-9300-438b-f68c-213ae9fbc1f0"
      },
      "execution_count": 11,
      "outputs": [
        {
          "output_type": "display_data",
          "data": {
            "image/jpeg": "[encoded data removed]",
            "text/plain": [
              "<IPython.core.display.Image object>"
            ]
          },
          "metadata": {}
        }
      ]
    },
    {
      "cell_type": "markdown",
      "source": [
        "Now let's run the chatbot!\n",
        "\n",
        "**`Tip`**: You can exit the chat loop at any time by typing \"quit\", \"exit\", or \"q\"."
      ],
      "metadata": {
        "id": "fo319qgVTfv2"
      }
    },
    {
      "cell_type": "code",
      "source": [
        "while True:\n",
        "    user_input = input(\"User: \")\n",
        "    if user_input.lower() in [\"quit\", \"exit\", \"q\"]:\n",
        "        print(\"Goodbye!\")\n",
        "        break\n",
        "    for event in graph.stream({\"messages\": (\"user\", user_input)}):\n",
        "        for value in event.values():\n",
        "            print(\"Assistant:\", value[\"messages\"][-1].content)"
      ],
      "metadata": {
        "colab": {
          "base_uri": "https://localhost:8080/"
        },
        "id": "rKi_EQrkTWXn",
        "outputId": "7489b072-47c8-403f-ce06-5fe45741d202"
      },
      "execution_count": 12,
      "outputs": [
        {
          "output_type": "stream",
          "name": "stdout",
          "text": [
            "User: Hi! how are you?\n",
            "Assistant: Hello! I'm just a program, so I don't have feelings, but I'm here and ready to help you. How can I assist you today?\n",
            "User: Mmmm, wassapppp?\n",
            "Assistant: Hey! Not much, just here and ready to chat. What’s up with you?\n",
            "User: I am good, can you help me with mmm, mmm, hmmm\n",
            "Assistant: Of course! It sounds like you might be uncertain or pondering something. Could you provide a bit more context or clarify what you need help with? Whether it's a question, topic, or any specific issue, I'm here to assist!\n",
            "User: quit\n",
            "Goodbye!\n"
          ]
        }
      ]
    },
    {
      "cell_type": "markdown",
      "source": [
        "## Part 2: Enhancing the Chatbot with Tools"
      ],
      "metadata": {
        "id": "jkNX__FtUe-Y"
      }
    },
    {
      "cell_type": "markdown",
      "source": [
        "To handle queries our chatbot can't answer \"from memory\", we'll integrate a web search tool. Our bot can use this tool to find relevant information and provide better responses."
      ],
      "metadata": {
        "id": "njXcDLddUlOK"
      }
    },
    {
      "cell_type": "markdown",
      "source": [
        "First, install the requirements to use the [Tavily Search Engine](https://python.langchain.com/v0.2/docs/integrations/tools/tavily_search/), and set your TAVILY_API_KEY."
      ],
      "metadata": {
        "id": "ZQV-JMTUUtIG"
      }
    },
    {
      "cell_type": "code",
      "source": [
        "%%capture --no-stderr\n",
        "%pip install -U tavily-python\n",
        "%pip install -U langchain_community"
      ],
      "metadata": {
        "id": "e2pw83pEToar"
      },
      "execution_count": 7,
      "outputs": []
    },
    {
      "cell_type": "code",
      "source": [
        "_set_env(\"TAVILY_API_KEY\")"
      ],
      "metadata": {
        "colab": {
          "base_uri": "https://localhost:8080/"
        },
        "id": "Gpidw4SfU2g_",
        "outputId": "fee491d9-c217-445d-d6be-e14c2891b449"
      },
      "execution_count": 8,
      "outputs": [
        {
          "name": "stdout",
          "output_type": "stream",
          "text": [
            "TAVILY_API_KEY: ··········\n"
          ]
        }
      ]
    },
    {
      "cell_type": "markdown",
      "source": [
        "Next, define the tool:"
      ],
      "metadata": {
        "id": "Cx0RgptHVjNZ"
      }
    },
    {
      "cell_type": "code",
      "source": [
        "from langchain_community.tools.tavily_search import TavilySearchResults\n",
        "\n",
        "tool = TavilySearchResults(max_results=2)\n",
        "tools = [tool]\n",
        "tool.invoke(\"What's a 'node' in LangGraph?\")"
      ],
      "metadata": {
        "colab": {
          "base_uri": "https://localhost:8080/"
        },
        "id": "4XV-okShVc-5",
        "outputId": "eb482711-cd01-412d-811e-d6636eb84c93"
      },
      "execution_count": 15,
      "outputs": [
        {
          "output_type": "execute_result",
          "data": {
            "text/plain": [
              "[{'url': 'https://langchain-ai.github.io/langgraph/concepts/low_level/',\n",
              "  'content': 'Nodes¶ In LangGraph, nodes are typically python functions (sync or async) where the first positional argument is the state, and (optionally), the second positional argument is a \"config\", containing optional configurable parameters (such as a thread_id). Similar to NetworkX, you add these nodes to a graph using the add_node method:'},\n",
              " {'url': 'https://medium.com/@cplog/introduction-to-langgraph-a-beginners-guide-14f9be027141',\n",
              "  'content': 'Nodes: Nodes are the building blocks of your LangGraph. Each node represents a function or a computation step. You define nodes to perform specific tasks, such as processing input, making ...'}]"
            ]
          },
          "metadata": {},
          "execution_count": 15
        }
      ]
    },
    {
      "cell_type": "code",
      "source": [
        "tool.invoke(\"how many gold medals USA team won at Paris olympics?\")"
      ],
      "metadata": {
        "colab": {
          "base_uri": "https://localhost:8080/"
        },
        "id": "ongq3hyfodTY",
        "outputId": "81e734d9-b4fa-4582-b978-087ea0b03a6e"
      },
      "execution_count": 17,
      "outputs": [
        {
          "output_type": "execute_result",
          "data": {
            "text/plain": [
              "[{'url': 'https://olympics.com/en/news/olympic-games-paris-2024-all-u-s-medal-winners-full-list',\n",
              "  'content': 'Know each U.S. medal winner at Paris 2024. The United States arrived in the French capital with a contingent of nearly 600 athletes for the Olympic Games Paris 2024 from 26 July to 11 August.. Team USA came into the Games looking to exceed their haul from Tokyo 2020 in 2021 where it won 39 gold, 41 silver, and 33 bronze medals for a total of 113 medals. . The North Americans have broken ...'},\n",
              " {'url': 'https://www.freep.com/story/sports/olympics/2024/08/10/usa-basketball-gold-medal-count-2024-paris-olympics/74432160007/',\n",
              "  'content': 'Heading into the 2024 Paris Olympics, USA Basketball has won an impressive 16 gold medals at the Olympics. The first gold medal for the United States came in the 1936 Berlin Olympics.'}]"
            ]
          },
          "metadata": {},
          "execution_count": 17
        }
      ]
    },
    {
      "cell_type": "markdown",
      "source": [
        "The results are page summaries our chat bot can use to answer questions.\n",
        "\n",
        "Next, we'll start defining our graph. The following is all the same as in Part 1, except we have added `bind_tools` on our LLM. This lets the LLM know the correct JSON format to use if it wants to use our search engine."
      ],
      "metadata": {
        "id": "Yexj4NHcpT4l"
      }
    },
    {
      "cell_type": "code",
      "source": [
        "class State(TypedDict):\n",
        "    messages: Annotated[list, add_messages]\n",
        "\n",
        "\n",
        "graph_builder = StateGraph(State)\n",
        "\n",
        "\n",
        "llm = ChatOpenAI(model=\"gpt-4o-mini\")\n",
        "# Modification: tell the LLM which tools it can call\n",
        "llm_with_tools = llm.bind_tools(tools)\n",
        "\n",
        "\n",
        "def chatbot(state: State):\n",
        "    return {\"messages\": [llm_with_tools.invoke(state[\"messages\"])]}\n",
        "\n",
        "\n",
        "graph_builder.add_node(\"chatbot\", chatbot)"
      ],
      "metadata": {
        "id": "OCJ0Lu8Po9d-"
      },
      "execution_count": 20,
      "outputs": []
    },
    {
      "cell_type": "markdown",
      "source": [
        "Next we need to create a function to actually run the tools if they are called. We'll do this by adding the tools to a new node.\n",
        "\n",
        "Below, implement a `BasicToolNode` that checks the most recent message in the state and calls tools if the message contains tool_calls. It relies on the LLM's `tool_calling` support, which is available in Anthropic, OpenAI, Google Gemini, and a number of other LLM providers.\n",
        "\n",
        "We will later replace this with LangGraph's prebuilt ToolNode to speed things up, but building it ourselves first is instructive."
      ],
      "metadata": {
        "id": "aDmES3P7qd1N"
      }
    },
    {
      "cell_type": "code",
      "source": [
        "import json\n",
        "\n",
        "from langchain_core.messages import ToolMessage\n",
        "\n",
        "\n",
        "class BasicToolNode:\n",
        "    \"\"\"A node that runs the tools requested in the last AIMessage.\"\"\"\n",
        "\n",
        "    def __init__(self, tools: list) -> None:\n",
        "        self.tools_by_name = {tool.name: tool for tool in tools}\n",
        "\n",
        "    def __call__(self, inputs: dict):\n",
        "        if messages := inputs.get(\"messages\", []):\n",
        "            message = messages[-1]\n",
        "        else:\n",
        "            raise ValueError(\"No message found in input\")\n",
        "        outputs = []\n",
        "        for tool_call in message.tool_calls:\n",
        "            tool_result = self.tools_by_name[tool_call[\"name\"]].invoke(\n",
        "                tool_call[\"args\"]\n",
        "            )\n",
        "            outputs.append(\n",
        "                ToolMessage(\n",
        "                    content=json.dumps(tool_result),\n",
        "                    name=tool_call[\"name\"],\n",
        "                    tool_call_id=tool_call[\"id\"],\n",
        "                )\n",
        "            )\n",
        "        return {\"messages\": outputs}\n",
        "\n",
        "\n",
        "tool_node = BasicToolNode(tools=[tool])\n",
        "graph_builder.add_node(\"tools\", tool_node)"
      ],
      "metadata": {
        "id": "rCEyCCbfp34u"
      },
      "execution_count": 21,
      "outputs": []
    },
    {
      "cell_type": "markdown",
      "source": [
        "With the tool node added, we can define the `conditional_edges`.\n",
        "\n",
        "Recall that `edges` route the control flow from one node to the next. Conditional edges usually contain \"if\" statements to route to different nodes depending on the current graph state. These functions receive the current graph state and return a string or list of strings indicating which node(s) to call next."
      ],
      "metadata": {
        "id": "UTf1HcdAryVI"
      }
    },
    {
      "cell_type": "markdown",
      "source": [
        "Below, call define a router function called `route_tools`, that checks for `tool_calls` in the chatbot's output. Provide this function to the graph by calling `add_conditional_edges`, which tells the graph that whenever the chatbot node completes to check this function to see where to go next.\n",
        "\n",
        "The condition will route to tools if tool calls are present and \"__end__\" if not.\n",
        "\n",
        "Later, we will replace this with the prebuilt `tools_condition` to be more concise, but implementing it ourselves first makes things more clear."
      ],
      "metadata": {
        "id": "Kki71PUer6mr"
      }
    },
    {
      "cell_type": "code",
      "source": [
        "from typing import Literal\n",
        "\n",
        "\n",
        "def route_tools(\n",
        "    state: State,\n",
        ") -> Literal[\"tools\", \"__end__\"]:\n",
        "    \"\"\"\n",
        "    Use in the conditional_edge to route to the ToolNode if the last message\n",
        "    has tool calls. Otherwise, route to the end.\n",
        "    \"\"\"\n",
        "    if isinstance(state, list):\n",
        "        ai_message = state[-1]\n",
        "    elif messages := state.get(\"messages\", []):\n",
        "        ai_message = messages[-1]\n",
        "    else:\n",
        "        raise ValueError(f\"No messages found in input state to tool_edge: {state}\")\n",
        "    if hasattr(ai_message, \"tool_calls\") and len(ai_message.tool_calls) > 0:\n",
        "        return \"tools\"\n",
        "    return \"__end__\"\n",
        "\n",
        "\n",
        "# The `tools_condition` function returns \"tools\" if the chatbot asks to use a tool, and \"__end__\" if\n",
        "# it is fine directly responding. This conditional routing defines the main agent loop.\n",
        "graph_builder.add_conditional_edges(\n",
        "    \"chatbot\",\n",
        "    route_tools,\n",
        "    # The following dictionary lets you tell the graph to interpret the condition's outputs as a specific node\n",
        "    # It defaults to the identity function, but if you\n",
        "    # want to use a node named something else apart from \"tools\",\n",
        "    # You can update the value of the dictionary to something else\n",
        "    # e.g., \"tools\": \"my_tools\"\n",
        "    {\"tools\": \"tools\", \"__end__\": \"__end__\"},\n",
        ")\n",
        "# Any time a tool is called, we return to the chatbot to decide the next step\n",
        "graph_builder.add_edge(\"tools\", \"chatbot\")\n",
        "graph_builder.add_edge(START, \"chatbot\")\n",
        "graph = graph_builder.compile()"
      ],
      "metadata": {
        "id": "41sSB5gZrTs1"
      },
      "execution_count": 22,
      "outputs": []
    },
    {
      "cell_type": "markdown",
      "source": [
        "Notice that conditional edges start from a single node. This tells the graph \"any time the 'chatbot' node runs, either go to 'tools' if it calls a tool, or end the loop if it responds directly.\n",
        "\n",
        "Like the prebuilt tools_condition, our function returns the \"__end__\" string if no tool calls are made. When the graph transitions to `__end__`, it has no more tasks to complete and ceases execution. Because the condition can return `__end__`, we don't need to explicitly set a finish_point this time. Our graph already has a way to finish!\n",
        "\n",
        "Let's visualize the graph we've built. The following function has some additional dependencies to run that are unimportant for this tutorial."
      ],
      "metadata": {
        "id": "4TiQsufZtDmX"
      }
    },
    {
      "cell_type": "code",
      "source": [
        "from IPython.display import Image, display\n",
        "\n",
        "try:\n",
        "    display(Image(graph.get_graph().draw_mermaid_png()))\n",
        "except Exception:\n",
        "    # This requires some extra dependencies and is optional\n",
        "    pass"
      ],
      "metadata": {
        "colab": {
          "base_uri": "https://localhost:8080/",
          "height": 236
        },
        "id": "zLoVhy6Es0XB",
        "outputId": "9d4bc8db-f373-4e51-e949-28604c028ebc"
      },
      "execution_count": 23,
      "outputs": [
        {
          "output_type": "display_data",
          "data": {
            "image/jpeg": "[encoded data removed]",
            "text/plain": [
              "<IPython.core.display.Image object>"
            ]
          },
          "metadata": {}
        }
      ]
    },
    {
      "cell_type": "code",
      "source": [
        "from langchain_core.messages import BaseMessage\n",
        "\n",
        "while True:\n",
        "    user_input = input(\"User: \")\n",
        "    if user_input.lower() in [\"quit\", \"exit\", \"q\"]:\n",
        "        print(\"Goodbye!\")\n",
        "        break\n",
        "    for event in graph.stream({\"messages\": [(\"user\", user_input)]}):\n",
        "        for value in event.values():\n",
        "            if isinstance(value[\"messages\"][-1], BaseMessage):\n",
        "                print(\"Assistant:\", value[\"messages\"][-1].content)"
      ],
      "metadata": {
        "colab": {
          "base_uri": "https://localhost:8080/"
        },
        "id": "W4m2HZN8tMS2",
        "outputId": "f3a3ba65-90c9-41a0-b40c-a55368db21d4"
      },
      "execution_count": 24,
      "outputs": [
        {
          "output_type": "stream",
          "name": "stdout",
          "text": [
            "User: Hi, can you tell me about rceent Paris Olympics news?\n",
            "Assistant: \n",
            "Assistant: [{\"url\": \"https://www.nytimes.com/athletic/live-blogs/paris-olympics-2024-live-updates-day-14-scores-results/R5EEaqToFGOK/\", \"content\": \"Paris Olympics 2024 \\u2014 Day 14 latest. Sha'Carri Richardson won her first Olympic gold medal today, bringing the Americans from behind with a stunning anchor leg to lead her nation to glory in ...\"}, {\"url\": \"https://olympics.com/en/paris-2024/news-all\", \"content\": \"Kelvin Kiptum's memory lingers over Paris 2024 marathons. Volleyball. USA beat Italy in straight sets to clinch men's bronze. Rhythmic Gymnastics. Germany's Darja Varfolomeev clinches individual all-around gold on Olympic debut. Breaking. With boom, bass and Snoop Dogg, breaking opens at Paris 2024. Table Tennis.\"}]\n",
            "Assistant: Here are some recent updates from the Paris Olympics 2024:\n",
            "\n",
            "1. **Sha'Carri Richardson's Victory**: Sha'Carri Richardson won her first Olympic gold medal, leading the American team to victory with a stunning performance in the anchor leg. [Read more here](https://www.nytimes.com/athletic/live-blogs/paris-olympics-2024-live-updates-day-14-scores-results/R5EEaqToFGOK/).\n",
            "\n",
            "2. **Marathon Insights**: Kelvin Kiptum's presence is being felt in the marathon events, as the anticipation builds for the races. \n",
            "\n",
            "3. **Volleyball Results**: The USA men's volleyball team achieved a significant win, beating Italy in straight sets to secure the bronze medal.\n",
            "\n",
            "4. **Rhythmic Gymnastics**: Germany's Darja Varfolomeev won the individual all-around gold in her Olympic debut.\n",
            "\n",
            "5. **Breaking Event**: The breaking competition kicked off with an exciting atmosphere, featuring performances by Snoop Dogg and others. \n",
            "\n",
            "For more detailed coverage, you can check the official Olympics website [here](https://olympics.com/en/paris-2024/news-all).\n",
            "User: Can you tell me about 2000 olympics?\n",
            "Assistant: \n",
            "Assistant: [{\"url\": \"https://en.wikipedia.org/wiki/2000_Summer_Olympics_medal_table\", \"content\": \"The 2000 Summer Olympics, officially known as the Games of the XXVII Olympiad, were a summer multi-sport event held in Sydney, New South Wales, Australia, from 15 September to 1 October 2000.A total of 10,651 athletes from 199 nations represented by National Olympic Committees (NOCs) (with four individual athletes from East Timor) competed in 300 events in 28 sports.\"}, {\"url\": \"https://en.wikipedia.org/wiki/2000_Summer_Olympics\", \"content\": \"The 2000 Summer Olympics, officially the Games of the XXVII Olympiad, officially branded as Sydney 2000, and also known as the Games of the New Millennium, were an international multi-sport event held from 15 September to 1 October 2000 in Sydney, New South Wales, Australia.It marked the second time the Summer Olympics were held in Australia, and in the Southern Hemisphere, the first being in ...\"}]\n",
            "Assistant: The 2000 Summer Olympics, officially known as the Games of the XXVII Olympiad, took place in Sydney, New South Wales, Australia, from September 15 to October 1, 2000. This event marked the second time the Summer Olympics were hosted in Australia, with the first being in Melbourne in 1956.\n",
            "\n",
            "Key details about the 2000 Olympics include:\n",
            "\n",
            "- **Participants**: A total of 10,651 athletes from 199 nations competed, including four individual athletes from East Timor.\n",
            "- **Events**: The games featured 300 events across 28 different sports.\n",
            "- **Significance**: The Sydney 2000 Olympics are often noted for their organization and are regarded as one of the most successful Olympic Games in history.\n",
            "\n",
            "For more detailed information, you can visit the full article on [Wikipedia](https://en.wikipedia.org/wiki/2000_Summer_Olympics).\n",
            "User: Nice!\n",
            "Assistant: Thank you! How can I assist you today?\n",
            "User: Nothing, it's alright, Ima quit soon\n",
            "Assistant: It sounds like you might be going through a tough time. If you want to talk about it or need support, I'm here to help.\n",
            "User: No, no, no brother, you wouldn't understand!)\n",
            "Assistant: It sounds like something's on your mind! Feel free to share what's bothering you or what you're thinking about, and I'll do my best to understand and help out.\n",
            "User: Can you search up about Turan Sultan?\n",
            "Assistant: \n",
            "Assistant: [{\"url\": \"https://en.wikipedia.org/wiki/Tomb_of_Turhan_Sultan\", \"content\": \"The Tomb of Turhan Sultan ( Turkish: Turhan Sultan T\\u00fcrbesi) is the mausoleum of five Ottoman sultans, located at Fatih in Istanbul, Turkey. It was built in 1663 for Turhan Sultan, first Haseki of Sultan Ibrahim and mother of Sultan Mehmed IV .\"}, {\"url\": \"https://en.wikipedia.org/wiki/Turhan_Sultan\", \"content\": \"Turhan Hatice Sultan ( Ottoman Turkish: \\u062a\\u0648\\u0631\\u062e\\u0627\\u0646 \\u0633\\u0644\\u0637\\u0627\\u0646, \\\" merciful\\\" or \\\" noble \\\"; c. 1627 - 4 August 1683) was the first Haseki Sultan of the Ottoman Sultan Ibrahim (reign 1640-48) and Valide sultan as the mother of Mehmed IV (reign 1648-87). Turhan was prominent for the regency of her young son and her building patronage.\"}]\n",
            "Assistant: Turan Sultan, also known as Turhan Hatice Sultan, was an influential figure in the Ottoman Empire. Here are some key details:\n",
            "\n",
            "1. **Full Name**: Turhan Hatice Sultan (Ottoman Turkish: تورخان سلطان)\n",
            "2. **Birth Year**: Circa 1627\n",
            "3. **Death Date**: August 4, 1683\n",
            "4. **Titles**: \n",
            "   - First Haseki Sultan of Sultan Ibrahim (who reigned from 1640 to 1648)\n",
            "   - Valide Sultan (Queen Mother) of Sultan Mehmed IV (who reigned from 1648 to 1687)\n",
            "\n",
            "5. **Significance**: Turhan Sultan played a prominent role in the regency of her young son, Mehmed IV, and was known for her building patronage.\n",
            "\n",
            "6. **Mausoleum**: The Tomb of Turhan Sultan is located in Fatih, Istanbul, Turkey. It was built in 1663 and serves as the mausoleum for five Ottoman sultans.\n",
            "\n",
            "For more detailed information, you can visit her [Wikipedia page](https://en.wikipedia.org/wiki/Turhan_Sultan) or the [Tomb of Turhan Sultan](https://en.wikipedia.org/wiki/Tomb_of_Turhan_Sultan).\n",
            "User: Ok, not this one, but ok. Thank you!\n",
            "Assistant: You're welcome! If you have any questions or need assistance with something else, feel free to ask!\n",
            "User: quit\n",
            "Goodbye!\n"
          ]
        }
      ]
    },
    {
      "cell_type": "markdown",
      "source": [
        "## Full Code so far!"
      ],
      "metadata": {
        "id": "8GoC6KNlusDD"
      }
    },
    {
      "cell_type": "markdown",
      "source": [
        "The full code for the graph we've created in this section is reproduced below, replacing our `BasicToolNode` for the prebuilt `ToolNode`, and our `route_tools` condition with the prebuilt `tools_condition`"
      ],
      "metadata": {
        "id": "vmQhMhf-uwyy"
      }
    },
    {
      "cell_type": "code",
      "source": [
        "from typing import Annotated\n",
        "\n",
        "from langchain_openai import ChatOpenAI\n",
        "from langchain_community.tools.tavily_search import TavilySearchResults\n",
        "from langchain_core.messages import BaseMessage\n",
        "from typing_extensions import TypedDict\n",
        "\n",
        "from langgraph.graph import StateGraph\n",
        "from langgraph.graph.message import add_messages\n",
        "from langgraph.prebuilt import ToolNode, tools_condition\n",
        "\n",
        "\n",
        "class State(TypedDict):\n",
        "    messages: Annotated[list, add_messages]\n",
        "\n",
        "\n",
        "graph_builder = StateGraph(State)\n",
        "\n",
        "\n",
        "tool = TavilySearchResults(max_results=2)\n",
        "tools = [tool]\n",
        "llm = ChatOpenAI(model=\"gpt-4o-mini\")\n",
        "llm_with_tools = llm.bind_tools(tools)\n",
        "\n",
        "\n",
        "def chatbot(state: State):\n",
        "    return {\"messages\": [llm_with_tools.invoke(state[\"messages\"])]}\n",
        "\n",
        "\n",
        "graph_builder.add_node(\"chatbot\", chatbot)\n",
        "\n",
        "tool_node = ToolNode(tools=[tool])\n",
        "graph_builder.add_node(\"tools\", tool_node)\n",
        "\n",
        "graph_builder.add_conditional_edges(\n",
        "    \"chatbot\",\n",
        "    tools_condition,\n",
        ")\n",
        "# Any time a tool is called, we return to the chatbot to decide the next step\n",
        "graph_builder.add_edge(\"tools\", \"chatbot\")\n",
        "graph_builder.set_entry_point(\"chatbot\")\n",
        "graph = graph_builder.compile()"
      ],
      "metadata": {
        "id": "-Ju33OV8uvdH"
      },
      "execution_count": 9,
      "outputs": []
    },
    {
      "cell_type": "markdown",
      "source": [],
      "metadata": {
        "id": "Rgwj8shRUZ9N"
      }
    },
    {
      "cell_type": "markdown",
      "source": [
        "## Part 3: Adding Memory to the Chatbot"
      ],
      "metadata": {
        "id": "M2Ix7BvMT3yu"
      }
    },
    {
      "cell_type": "markdown",
      "source": [
        "Our chatbot can now use tools to answer user questions, but it doesn't remember the context of previous interactions. This limits its ability to have coherent, multi-turn conversations.\n",
        "\n",
        "LangGraph solves this problem through **persistent checkpointing**. If you provide a checkpointer when compiling the graph and a `thread_id` when calling your graph, LangGraph automatically saves the state after each step. When you invoke the graph again using the same `thread_id`, the graph loads its saved state, allowing the chatbot to pick up where it left off.\n",
        "\n",
        "We will see later that checkpointing is much more powerful than simple chat memory - it lets you save and resume complex state at any time for error recovery, human-in-the-loop workflows, time travel interactions, and more. But before we get too ahead of ourselves, let's add checkpointing to enable multi-turn conversations."
      ],
      "metadata": {
        "id": "vZmvVC1PURjc"
      }
    },
    {
      "cell_type": "markdown",
      "source": [
        "To get started, create a `MemorySaver` checkpointer."
      ],
      "metadata": {
        "id": "atfioDjpUcak"
      }
    },
    {
      "cell_type": "code",
      "source": [
        "from langgraph.checkpoint.memory import MemorySaver\n",
        "\n",
        "memory = MemorySaver()"
      ],
      "metadata": {
        "id": "-X9wLVYttblQ"
      },
      "execution_count": 10,
      "outputs": []
    },
    {
      "cell_type": "markdown",
      "source": [
        "Notice we're using an `in-memory checkpointer`. This is convenient for our tutorial (it saves it all in-memory). In a production application, you would likely change this to use `SqliteSaver` or `PostgresSaver` and connect to your own DB."
      ],
      "metadata": {
        "id": "JGU05wISUto6"
      }
    },
    {
      "cell_type": "markdown",
      "source": [
        "Next define the graph. Now that you've already built your own `BasicToolNode`, we'll replace it with LangGraph's prebuilt `ToolNode` and `tools_condition`, since these do some nice things like parallel API execution. Apart from that, the following is all copied from Part 2."
      ],
      "metadata": {
        "id": "gFXXdp3xU0Dh"
      }
    },
    {
      "cell_type": "code",
      "source": [
        "from typing import Annotated\n",
        "\n",
        "from langchain_openai import ChatOpenAI\n",
        "from langchain_community.tools.tavily_search import TavilySearchResults\n",
        "from langchain_core.messages import BaseMessage\n",
        "from typing_extensions import TypedDict\n",
        "\n",
        "from langgraph.graph import StateGraph\n",
        "from langgraph.graph.message import add_messages\n",
        "from langgraph.prebuilt import ToolNode, tools_condition\n",
        "\n",
        "\n",
        "class State(TypedDict):\n",
        "    messages: Annotated[list, add_messages]\n",
        "\n",
        "\n",
        "graph_builder = StateGraph(State)\n",
        "\n",
        "\n",
        "tool = TavilySearchResults(max_results=2)\n",
        "tools = [tool]\n",
        "llm = ChatOpenAI(model=\"gpt-4o-mini\")\n",
        "llm_with_tools = llm.bind_tools(tools)\n",
        "\n",
        "\n",
        "def chatbot(state: State):\n",
        "    return {\"messages\": [llm_with_tools.invoke(state[\"messages\"])]}\n",
        "\n",
        "\n",
        "graph_builder.add_node(\"chatbot\", chatbot)\n",
        "\n",
        "tool_node = ToolNode(tools=[tool])\n",
        "graph_builder.add_node(\"tools\", tool_node)\n",
        "\n",
        "graph_builder.add_conditional_edges(\n",
        "    \"chatbot\",\n",
        "    tools_condition,\n",
        ")\n",
        "# Any time a tool is called, we return to the chatbot to decide the next step\n",
        "graph_builder.add_edge(\"tools\", \"chatbot\")\n",
        "graph_builder.add_edge(START, \"chatbot\")"
      ],
      "metadata": {
        "id": "F4TdyohyUgy4"
      },
      "execution_count": 11,
      "outputs": []
    },
    {
      "cell_type": "markdown",
      "source": [
        "Finally, compile the graph with the provided checkpointer."
      ],
      "metadata": {
        "id": "6o1zdINUVb0W"
      }
    },
    {
      "cell_type": "code",
      "source": [
        "graph = graph_builder.compile(checkpointer=memory)"
      ],
      "metadata": {
        "id": "ZNPHHJeBVa9A"
      },
      "execution_count": 12,
      "outputs": []
    },
    {
      "cell_type": "code",
      "source": [
        "from IPython.display import Image, display\n",
        "\n",
        "try:\n",
        "    display(Image(graph.get_graph().draw_mermaid_png()))\n",
        "except Exception:\n",
        "    # This requires some extra dependencies and is optional\n",
        "    pass"
      ],
      "metadata": {
        "colab": {
          "base_uri": "https://localhost:8080/",
          "height": 236
        },
        "id": "3vuaMJi6VfRx",
        "outputId": "3b43f4fe-b7fb-4a4b-cef2-7bc03c3949ca"
      },
      "execution_count": 13,
      "outputs": [
        {
          "output_type": "display_data",
          "data": {
            "image/jpeg": "[encoded data removed]",
            "text/plain": [
              "<IPython.core.display.Image object>"
            ]
          },
          "metadata": {}
        }
      ]
    },
    {
      "cell_type": "markdown",
      "source": [
        "Now you can interact with your bot! First, pick a `thread` to use as the key for this conversation."
      ],
      "metadata": {
        "id": "c-XztuQaVrQl"
      }
    },
    {
      "cell_type": "code",
      "source": [
        "config = {\"configurable\": {\"thread_id\": \"1\"}}"
      ],
      "metadata": {
        "id": "6IN-aglYVmMm"
      },
      "execution_count": 14,
      "outputs": []
    },
    {
      "cell_type": "markdown",
      "source": [
        "Next, call your chat bot."
      ],
      "metadata": {
        "id": "nL9PPjlYVypt"
      }
    },
    {
      "cell_type": "code",
      "source": [
        "user_input = \"Hi there! My name is Roma.\"\n",
        "\n",
        "# The config is the **second positional argument** to stream() or invoke()!\n",
        "events = graph.stream(\n",
        "    {\"messages\": [(\"user\", user_input)]}, config, stream_mode=\"values\"\n",
        ")\n",
        "for event in events:\n",
        "    event[\"messages\"][-1].pretty_print()"
      ],
      "metadata": {
        "colab": {
          "base_uri": "https://localhost:8080/"
        },
        "id": "hSuZo0cIVvZS",
        "outputId": "bf5eaa57-a44b-4a2d-9eed-47032198bf2f"
      },
      "execution_count": 15,
      "outputs": [
        {
          "output_type": "stream",
          "name": "stdout",
          "text": [
            "================================\u001b[1m Human Message \u001b[0m=================================\n",
            "\n",
            "Hi there! My name is Roma.\n",
            "==================================\u001b[1m Ai Message \u001b[0m==================================\n",
            "\n",
            "Hello Roma! How can I assist you today?\n"
          ]
        }
      ]
    },
    {
      "cell_type": "markdown",
      "source": [
        "**`Note`**: The config was provided as the second positional argument when calling our graph. It importantly is not nested within the graph inputs ({'messages': []}).\n",
        "\n",
        "Let's ask a followup: see if it remembers your name."
      ],
      "metadata": {
        "id": "z0w1A8lLWPv3"
      }
    },
    {
      "cell_type": "code",
      "source": [
        "user_input = \"Remember my name?\"\n",
        "\n",
        "# The config is the **second positional argument** to stream() or invoke()!\n",
        "events = graph.stream(\n",
        "    {\"messages\": [(\"user\", user_input)]}, config, stream_mode=\"values\"\n",
        ")\n",
        "for event in events:\n",
        "    event[\"messages\"][-1].pretty_print()"
      ],
      "metadata": {
        "colab": {
          "base_uri": "https://localhost:8080/"
        },
        "id": "zO5w63NqWD_Y",
        "outputId": "79721572-865b-463f-fb59-b172bbbc0f95"
      },
      "execution_count": 16,
      "outputs": [
        {
          "output_type": "stream",
          "name": "stdout",
          "text": [
            "================================\u001b[1m Human Message \u001b[0m=================================\n",
            "\n",
            "Remember my name?\n",
            "==================================\u001b[1m Ai Message \u001b[0m==================================\n",
            "\n",
            "Yes, I remember your name, Roma! How can I help you today?\n"
          ]
        }
      ]
    },
    {
      "cell_type": "markdown",
      "source": [
        "Notice that we aren't using an external list for memory: it's all handled by the checkpointer! You can inspect the full execution in this LangSmith trace to see what's going on.\n",
        "\n",
        "Don't believe me? Try this using a different config."
      ],
      "metadata": {
        "id": "UwuC146-WeT3"
      }
    },
    {
      "cell_type": "code",
      "source": [
        "# The only difference is we change the `thread_id` here to \"2\" instead of \"1\"\n",
        "events = graph.stream(\n",
        "    {\"messages\": [(\"user\", user_input)]},\n",
        "    {\"configurable\": {\"thread_id\": \"2\"}},\n",
        "    stream_mode=\"values\",\n",
        ")\n",
        "for event in events:\n",
        "    event[\"messages\"][-1].pretty_print()"
      ],
      "metadata": {
        "colab": {
          "base_uri": "https://localhost:8080/"
        },
        "id": "qRWXgvUkWWgC",
        "outputId": "45132783-44c7-4dea-902a-d1008fa6256e"
      },
      "execution_count": 17,
      "outputs": [
        {
          "output_type": "stream",
          "name": "stdout",
          "text": [
            "================================\u001b[1m Human Message \u001b[0m=================================\n",
            "\n",
            "Remember my name?\n",
            "==================================\u001b[1m Ai Message \u001b[0m==================================\n",
            "\n",
            "I don't have the ability to remember personal information, including names, from previous interactions. However, you can share your name with me now if you'd like!\n"
          ]
        }
      ]
    },
    {
      "cell_type": "markdown",
      "source": [
        "Notice that the only change we've made is to modify the thread_id in the config. See this call's LangSmith trace for comparison.\n",
        "\n",
        "By now, we have made a few checkpoints across two different threads. But what goes into a checkpoint? To inspect a graph's state for a given config at any time, call `get_state(config)`."
      ],
      "metadata": {
        "id": "-id-CSlYWvYn"
      }
    },
    {
      "cell_type": "code",
      "source": [
        "snapshot = graph.get_state(config)\n",
        "snapshot"
      ],
      "metadata": {
        "colab": {
          "base_uri": "https://localhost:8080/"
        },
        "id": "3s5av-59Wh2Q",
        "outputId": "a74a9899-6938-496a-afa0-3b93fa90e291"
      },
      "execution_count": 18,
      "outputs": [
        {
          "output_type": "execute_result",
          "data": {
            "text/plain": [
              "StateSnapshot(values={'messages': [HumanMessage(content='Hi there! My name is Roma.', id='768bf8ff-df36-4996-966b-a9a49f325f52'), AIMessage(content='Hello Roma! How can I assist you today?', additional_kwargs={'refusal': None}, response_metadata={'token_usage': {'completion_tokens': 11, 'prompt_tokens': 87, 'total_tokens': 98}, 'model_name': 'gpt-4o-mini-2024-07-18', 'system_fingerprint': 'fp_48196bc67a', 'finish_reason': 'stop', 'logprobs': None}, id='run-8d4f0629-69cf-4e7a-adae-2d0ac4e8b860-0', usage_metadata={'input_tokens': 87, 'output_tokens': 11, 'total_tokens': 98}), HumanMessage(content='Remember my name?', id='03c4565a-c4b1-46e6-a0b0-df3bfbe6c7b7'), AIMessage(content='Yes, I remember your name, Roma! How can I help you today?', additional_kwargs={'refusal': None}, response_metadata={'token_usage': {'completion_tokens': 17, 'prompt_tokens': 109, 'total_tokens': 126}, 'model_name': 'gpt-4o-mini-2024-07-18', 'system_fingerprint': 'fp_48196bc67a', 'finish_reason': 'stop', 'logprobs': None}, id='run-9e625164-54a6-46fd-8d43-f0a535aed6ca-0', usage_metadata={'input_tokens': 109, 'output_tokens': 17, 'total_tokens': 126})]}, next=(), config={'configurable': {'thread_id': '1', 'checkpoint_ns': '', 'checkpoint_id': '1ef57dac-8ef7-62fb-8004-efad2e3b2f3b'}}, metadata={'source': 'loop', 'writes': {'chatbot': {'messages': [AIMessage(content='Yes, I remember your name, Roma! How can I help you today?', additional_kwargs={'refusal': None}, response_metadata={'token_usage': {'completion_tokens': 17, 'prompt_tokens': 109, 'total_tokens': 126}, 'model_name': 'gpt-4o-mini-2024-07-18', 'system_fingerprint': 'fp_48196bc67a', 'finish_reason': 'stop', 'logprobs': None}, id='run-9e625164-54a6-46fd-8d43-f0a535aed6ca-0', usage_metadata={'input_tokens': 109, 'output_tokens': 17, 'total_tokens': 126})]}}, 'step': 4}, created_at='2024-08-11T12:11:05.739698+00:00', parent_config={'configurable': {'thread_id': '1', 'checkpoint_ns': '', 'checkpoint_id': '1ef57dac-86b1-68c9-8003-22dc380fa76c'}})"
            ]
          },
          "metadata": {},
          "execution_count": 18
        }
      ]
    },
    {
      "cell_type": "code",
      "source": [
        "snapshot.next  # (since the graph ended this turn, `next` is empty. If you fetch a state from within a graph invocation, next tells which node will execute next)"
      ],
      "metadata": {
        "colab": {
          "base_uri": "https://localhost:8080/"
        },
        "id": "w19i8AeYW1yk",
        "outputId": "f0059a36-bc05-427b-cb69-a8a84c79c187"
      },
      "execution_count": 19,
      "outputs": [
        {
          "output_type": "execute_result",
          "data": {
            "text/plain": [
              "()"
            ]
          },
          "metadata": {},
          "execution_count": 19
        }
      ]
    },
    {
      "cell_type": "markdown",
      "source": [
        "The snapshot above contains the current state values, corresponding config, and the next node to process. In our case, the graph has reached an __end__ state, so next is empty."
      ],
      "metadata": {
        "id": "JX873CxHXM_j"
      }
    },
    {
      "cell_type": "markdown",
      "source": [
        "## Part 4: Human-in-the-loop"
      ],
      "metadata": {
        "id": "HcJw-XGxXeJQ"
      }
    },
    {
      "cell_type": "markdown",
      "source": [
        "Agents can be unreliable and may need human input to successfully accomplish tasks. Similarly, for some actions, you may want to require human approval before running to ensure that everything is running as intended.\n",
        "\n",
        "LangGraph supports `human-in-the-loop` workflows in a number of ways. In this section, we will use LangGraph's `interrupt_before` functionality to always break the tool node.\n",
        "\n",
        "First, start from our existing code. The following is copied from Part 3."
      ],
      "metadata": {
        "id": "VedPWo6YXoJ9"
      }
    },
    {
      "cell_type": "code",
      "source": [
        "from langchain_openai import ChatOpenAI\n",
        "from langchain_community.tools.tavily_search import TavilySearchResults\n",
        "from langchain_core.messages import BaseMessage\n",
        "from typing_extensions import TypedDict\n",
        "\n",
        "from langgraph.graph import StateGraph\n",
        "from langgraph.graph.message import add_messages\n",
        "from langgraph.prebuilt import ToolNode, tools_condition\n",
        "\n",
        "\n",
        "class State(TypedDict):\n",
        "    messages: Annotated[list, add_messages]\n",
        "\n",
        "\n",
        "graph_builder = StateGraph(State)\n",
        "\n",
        "\n",
        "tool = TavilySearchResults(max_results=2)\n",
        "tools = [tool]\n",
        "llm = ChatOpenAI(model=\"gpt-4o-mini\")\n",
        "llm_with_tools = llm.bind_tools(tools)\n",
        "\n",
        "\n",
        "def chatbot(state: State):\n",
        "    return {\"messages\": [llm_with_tools.invoke(state[\"messages\"])]}\n",
        "\n",
        "\n",
        "graph_builder.add_node(\"chatbot\", chatbot)\n",
        "\n",
        "tool_node = ToolNode(tools=[tool])\n",
        "graph_builder.add_node(\"tools\", tool_node)\n",
        "\n",
        "graph_builder.add_conditional_edges(\n",
        "    \"chatbot\",\n",
        "    tools_condition,\n",
        ")\n",
        "# Any time a tool is called, we return to the chatbot to decide the next step\n",
        "graph_builder.add_edge(\"tools\", \"chatbot\")\n",
        "graph_builder.add_edge(START, \"chatbot\")"
      ],
      "metadata": {
        "id": "F3KJTMwZXDST"
      },
      "execution_count": 21,
      "outputs": []
    },
    {
      "cell_type": "markdown",
      "source": [
        "Now, compile the graph, specifying to `interrupt_before` the action node."
      ],
      "metadata": {
        "id": "VbLCJn96X6Sd"
      }
    },
    {
      "cell_type": "code",
      "source": [
        "graph = graph_builder.compile(\n",
        "    checkpointer=memory,\n",
        "    # This is new!\n",
        "    interrupt_before=[\"tools\"],\n",
        "    # Note: can also interrupt __after__ actions, if desired.\n",
        "    # interrupt_after=[\"tools\"]\n",
        ")"
      ],
      "metadata": {
        "id": "eMy3QOY_Xw_D"
      },
      "execution_count": 22,
      "outputs": []
    },
    {
      "cell_type": "code",
      "source": [
        "user_input = \"I'm learning LangGraph. Could you do some research on it for me?\"\n",
        "config = {\"configurable\": {\"thread_id\": \"1\"}}\n",
        "# The config is the **second positional argument** to stream() or invoke()!\n",
        "events = graph.stream(\n",
        "    {\"messages\": [(\"user\", user_input)]}, config, stream_mode=\"values\"\n",
        ")\n",
        "for event in events:\n",
        "    if \"messages\" in event:\n",
        "        event[\"messages\"][-1].pretty_print()"
      ],
      "metadata": {
        "colab": {
          "base_uri": "https://localhost:8080/"
        },
        "id": "I3NXSRbWYDHc",
        "outputId": "b589a043-e36c-4c04-ddcb-00443177512e"
      },
      "execution_count": 23,
      "outputs": [
        {
          "output_type": "stream",
          "name": "stdout",
          "text": [
            "================================\u001b[1m Human Message \u001b[0m=================================\n",
            "\n",
            "I'm learning LangGraph. Could you do some research on it for me?\n",
            "==================================\u001b[1m Ai Message \u001b[0m==================================\n",
            "Tool Calls:\n",
            "  tavily_search_results_json (call_Ud9FhptBOLbfqdxAb1b4lC36)\n",
            " Call ID: call_Ud9FhptBOLbfqdxAb1b4lC36\n",
            "  Args:\n",
            "    query: LangGraph\n"
          ]
        }
      ]
    },
    {
      "cell_type": "markdown",
      "source": [
        "Let's inspect the graph state to confirm it worked.\n",
        "\n"
      ],
      "metadata": {
        "id": "uqsdphfUYTOC"
      }
    },
    {
      "cell_type": "code",
      "source": [
        "snapshot = graph.get_state(config)\n",
        "snapshot.next"
      ],
      "metadata": {
        "colab": {
          "base_uri": "https://localhost:8080/"
        },
        "id": "FbxB5EpyYK5l",
        "outputId": "6fa3574c-bd07-4aac-e2a9-0ef876ea3249"
      },
      "execution_count": 24,
      "outputs": [
        {
          "output_type": "execute_result",
          "data": {
            "text/plain": [
              "('tools',)"
            ]
          },
          "metadata": {},
          "execution_count": 24
        }
      ]
    },
    {
      "cell_type": "markdown",
      "source": [
        "**`Notice`** that unlike last time, the \"next\" node is set to 'action'. We've interrupted here! Let's check the tool invocation."
      ],
      "metadata": {
        "id": "I9zyrgWZYtJL"
      }
    },
    {
      "cell_type": "code",
      "source": [
        "existing_message = snapshot.values[\"messages\"][-1]\n",
        "existing_message.tool_calls"
      ],
      "metadata": {
        "colab": {
          "base_uri": "https://localhost:8080/"
        },
        "id": "JZIgldZ_Ya8q",
        "outputId": "35454160-b216-4bec-f94a-caff77b9d541"
      },
      "execution_count": 25,
      "outputs": [
        {
          "output_type": "execute_result",
          "data": {
            "text/plain": [
              "[{'name': 'tavily_search_results_json',\n",
              "  'args': {'query': 'LangGraph'},\n",
              "  'id': 'call_Ud9FhptBOLbfqdxAb1b4lC36',\n",
              "  'type': 'tool_call'}]"
            ]
          },
          "metadata": {},
          "execution_count": 25
        }
      ]
    },
    {
      "cell_type": "markdown",
      "source": [
        "This query seems reasonable. Nothing to filter here. The simplest thing the human can do is just let the graph continue executing. Let's do that below.\n",
        "\n",
        "Next, continue the graph! Passing in None will just let the graph continue where it left off, without adding anything new to the state."
      ],
      "metadata": {
        "id": "Jnqqpz_XY9L0"
      }
    },
    {
      "cell_type": "code",
      "source": [
        "# `None` will append nothing new to the current state, letting it resume as if it had never been interrupted\n",
        "events = graph.stream(None, config, stream_mode=\"values\")\n",
        "for event in events:\n",
        "    if \"messages\" in event:\n",
        "        event[\"messages\"][-1].pretty_print()"
      ],
      "metadata": {
        "colab": {
          "base_uri": "https://localhost:8080/"
        },
        "id": "wrmrSoQuY3vK",
        "outputId": "03f5162b-4369-483d-928d-206ee34636b1"
      },
      "execution_count": 26,
      "outputs": [
        {
          "output_type": "stream",
          "name": "stdout",
          "text": [
            "=================================\u001b[1m Tool Message \u001b[0m=================================\n",
            "Name: tavily_search_results_json\n",
            "\n",
            "[{\"url\": \"https://blog.langchain.dev/langgraph-cloud/\", \"content\": \"LangGraph is a framework for building agentic and multi-agent applications with LLMs, and LangGraph Cloud is a scalable and reliable infrastructure for deploying them. Learn how LangGraph helps you design, debug, and monitor complex agentic workflows with LLMs.\"}, {\"url\": \"https://github.com/langchain-ai/langgraph\", \"content\": \"LangGraph is a library for creating stateful, multi-actor applications with LLMs, using cycles, controllability, and persistence. Learn how to use LangGraph with examples, integration with LangChain, and streaming support.\"}]\n",
            "==================================\u001b[1m Ai Message \u001b[0m==================================\n",
            "\n",
            "Here are some resources about LangGraph:\n",
            "\n",
            "1. **LangGraph Overview**:\n",
            "   - **Description**: LangGraph is a framework designed for building agentic and multi-agent applications using Large Language Models (LLMs). It includes LangGraph Cloud, which provides a scalable and reliable infrastructure for deploying these applications. The framework helps in designing, debugging, and monitoring complex workflows involving LLMs.\n",
            "   - **Link**: [Learn more about LangGraph Cloud](https://blog.langchain.dev/langgraph-cloud/)\n",
            "\n",
            "2. **LangGraph Library**:\n",
            "   - **Description**: LangGraph is a library that allows for the creation of stateful, multi-actor applications with LLMs. It focuses on cycles, controllability, and persistence. The GitHub repository includes examples, integration guidelines with LangChain, and streaming support.\n",
            "   - **Link**: [LangGraph on GitHub](https://github.com/langchain-ai/langgraph)\n",
            "\n",
            "If you have specific questions or need further information, feel free to ask!\n"
          ]
        }
      ]
    },
    {
      "cell_type": "markdown",
      "source": [
        "## Part 5: Manually Updating the State"
      ],
      "metadata": {
        "id": "tJ0q0X2mZ6u6"
      }
    },
    {
      "cell_type": "markdown",
      "source": [
        "In the previous section, we showed how to interrupt a graph so that a human could inspect its actions. This lets the human `read` the state, but if they want to change they agent's course, they'll need to have `write` access."
      ],
      "metadata": {
        "id": "BjQOw41XaBZb"
      }
    },
    {
      "cell_type": "markdown",
      "source": [
        "Thankfully, LangGraph lets you manually update state! Updating the state lets you control the agent's trajectory by modifying its actions (even modifying the past!). This capability is particularly useful when you want to correct the agent's mistakes, explore alternative paths, or guide the agent towards a specific goal.\n",
        "\n",
        "We'll show how to update a checkpointed state below. As before, first, define your graph. We'll reuse the exact same graph as before."
      ],
      "metadata": {
        "id": "2iCzILu8aOUD"
      }
    },
    {
      "cell_type": "code",
      "source": [
        "from langchain_openai import ChatOpenAI\n",
        "from langchain_community.tools.tavily_search import TavilySearchResults\n",
        "from langchain_core.messages import BaseMessage\n",
        "from typing_extensions import TypedDict\n",
        "\n",
        "from langgraph.graph import StateGraph\n",
        "from langgraph.graph.message import add_messages\n",
        "from langgraph.prebuilt import ToolNode, tools_condition\n",
        "\n",
        "\n",
        "class State(TypedDict):\n",
        "    messages: Annotated[list, add_messages]\n",
        "\n",
        "\n",
        "graph_builder = StateGraph(State)\n",
        "\n",
        "\n",
        "tool = TavilySearchResults(max_results=2)\n",
        "tools = [tool]\n",
        "llm = ChatOpenAI(model=\"gpt-4o-mini\")\n",
        "llm_with_tools = llm.bind_tools(tools)\n",
        "\n",
        "\n",
        "def chatbot(state: State):\n",
        "    return {\"messages\": [llm_with_tools.invoke(state[\"messages\"])]}\n",
        "\n",
        "\n",
        "graph_builder.add_node(\"chatbot\", chatbot)\n",
        "\n",
        "tool_node = ToolNode(tools=[tool])\n",
        "graph_builder.add_node(\"tools\", tool_node)\n",
        "\n",
        "graph_builder.add_conditional_edges(\n",
        "    \"chatbot\",\n",
        "    tools_condition,\n",
        ")\n",
        "# Any time a tool is called, we return to the chatbot to decide the next step\n",
        "graph_builder.add_edge(\"tools\", \"chatbot\")\n",
        "graph_builder.add_edge(START, \"chatbot\")\n",
        "\n",
        "memory = MemorySaver()\n",
        "graph = graph_builder.compile(\n",
        "    checkpointer=memory,\n",
        "    # This is new!\n",
        "    interrupt_before=[\"tools\"],\n",
        "    # Note: can also interrupt **after** actions, if desired.\n",
        "    # interrupt_after=[\"tools\"]\n",
        ")\n",
        "\n",
        "user_input = \"I'm learning LangGraph. Could you do some research on it for me?\"\n",
        "config = {\"configurable\": {\"thread_id\": \"1\"}}\n",
        "# The config is the **second positional argument** to stream() or invoke()!\n",
        "events = graph.stream({\"messages\": [(\"user\", user_input)]}, config)\n",
        "for event in events:\n",
        "    if \"messages\" in event:\n",
        "        event[\"messages\"][-1].pretty_print()"
      ],
      "metadata": {
        "id": "-ZYiEfmoZi8g"
      },
      "execution_count": 27,
      "outputs": []
    },
    {
      "cell_type": "code",
      "source": [
        "snapshot = graph.get_state(config)\n",
        "existing_message = snapshot.values[\"messages\"][-1]\n",
        "existing_message.pretty_print()"
      ],
      "metadata": {
        "colab": {
          "base_uri": "https://localhost:8080/"
        },
        "id": "nBNlvyg-abW-",
        "outputId": "99e19568-c8d1-4a20-89d0-6651edcc76b4"
      },
      "execution_count": 28,
      "outputs": [
        {
          "output_type": "stream",
          "name": "stdout",
          "text": [
            "==================================\u001b[1m Ai Message \u001b[0m==================================\n",
            "Tool Calls:\n",
            "  tavily_search_results_json (call_TMrY5T9VERr4jEOus8qTE4uy)\n",
            " Call ID: call_TMrY5T9VERr4jEOus8qTE4uy\n",
            "  Args:\n",
            "    query: LangGraph\n"
          ]
        }
      ]
    },
    {
      "cell_type": "markdown",
      "source": [
        "So far, all of this is an exact repeat of the previous section. The LLM just requested to use the search engine tool and our graph was interrupted. If we proceed as before, the tool will be called to search the web.\n",
        "\n",
        "But what if the user wants to intercede? What if we think the chat bot doesn't need to use the tool?\n",
        "\n",
        "Let's directly provide the correct response!"
      ],
      "metadata": {
        "id": "do-UP5waa7lA"
      }
    },
    {
      "cell_type": "code",
      "source": [
        "from langchain_core.messages import AIMessage\n",
        "import json\n",
        "\n",
        "from langchain_core.messages import ToolMessage\n",
        "\n",
        "answer = (\n",
        "    \"LangGraph is a library for building stateful, multi-actor applications with LLMs.\"\n",
        ")\n",
        "new_messages = [\n",
        "    # The LLM API expects some ToolMessage to match its tool call. We'll satisfy that here.\n",
        "    ToolMessage(content=answer, tool_call_id=existing_message.tool_calls[0][\"id\"]),\n",
        "    # And then directly \"put words in the LLM's mouth\" by populating its response.\n",
        "    AIMessage(content=answer),\n",
        "]\n",
        "\n",
        "new_messages[-1].pretty_print()\n",
        "graph.update_state(\n",
        "    # Which state to update\n",
        "    config,\n",
        "    # The updated values to provide. The messages in our `State` are \"append-only\", meaning this will be appended\n",
        "    # to the existing state. We will review how to update existing messages in the next section!\n",
        "    {\"messages\": new_messages},\n",
        ")\n",
        "\n",
        "print(\"\\n\\nLast 2 messages;\")\n",
        "print(graph.get_state(config).values[\"messages\"][-2:])"
      ],
      "metadata": {
        "colab": {
          "base_uri": "https://localhost:8080/"
        },
        "id": "_aBcPepKajeh",
        "outputId": "811f154d-26c2-4f37-9076-f994841f8499"
      },
      "execution_count": 30,
      "outputs": [
        {
          "output_type": "stream",
          "name": "stdout",
          "text": [
            "==================================\u001b[1m Ai Message \u001b[0m==================================\n",
            "\n",
            "LangGraph is a library for building stateful, multi-actor applications with LLMs.\n",
            "\n",
            "\n",
            "Last 2 messages;\n",
            "[ToolMessage(content='LangGraph is a library for building stateful, multi-actor applications with LLMs.', id='b8afb3dd-a92d-46d7-97c9-6b6aba7e7b89', tool_call_id='call_TMrY5T9VERr4jEOus8qTE4uy'), AIMessage(content='LangGraph is a library for building stateful, multi-actor applications with LLMs.', id='1998b258-92cb-4a6d-aaf5-24e9edaf0aaa')]\n"
          ]
        }
      ]
    },
    {
      "cell_type": "markdown",
      "source": [
        "Now the graph is complete, since we've provided the final response message! Since state updates simulate a graph step, they even generate corresponding traces. Inspec the LangSmith trace of the update_state call above to see what's going on.\n",
        "\n",
        "Notice that our new messages are appended to the messages already in the state. Remember how we defined the State type?"
      ],
      "metadata": {
        "id": "Wn3MQ7aGcEB_"
      }
    },
    {
      "cell_type": "code",
      "source": [
        "class State(TypedDict):\n",
        "    messages: Annotated[list, add_messages]"
      ],
      "metadata": {
        "id": "rgpD9rWXbTW5"
      },
      "execution_count": 31,
      "outputs": []
    },
    {
      "cell_type": "markdown",
      "source": [
        "We annotated messages with the pre-built `add_messages` function. This instructs the graph to always append values to the existing list, rather than overwriting the list directly. The same logic is applied here, so the messages we passed to `update_state` were appended in the same way!\n",
        "\n",
        "The `update_state` function operates as if it were one of the nodes in your graph! By default, the update operation uses the node that was last executed, but you can manually specify it below. Let's add an update and tell the graph to treat it as if it came from the \"chatbot\"."
      ],
      "metadata": {
        "id": "VbFmxJOKcWQm"
      }
    },
    {
      "cell_type": "code",
      "source": [
        "graph.update_state(\n",
        "    config,\n",
        "    {\"messages\": [AIMessage(content=\"I'm an AI expert!\")]},\n",
        "    # Which node for this function to act as. It will automatically continue\n",
        "    # processing as if this node just ran.\n",
        "    as_node=\"chatbot\",\n",
        ")"
      ],
      "metadata": {
        "colab": {
          "base_uri": "https://localhost:8080/"
        },
        "id": "XUw2i3tucHEl",
        "outputId": "b1afd2df-9fda-4876-8ec8-ebae540fffdf"
      },
      "execution_count": 32,
      "outputs": [
        {
          "output_type": "execute_result",
          "data": {
            "text/plain": [
              "{'configurable': {'thread_id': '1',\n",
              "  'checkpoint_ns': '',\n",
              "  'checkpoint_id': '1ef57de8-81c0-6856-8003-57f5c9d635b6'}}"
            ]
          },
          "metadata": {},
          "execution_count": 32
        }
      ]
    },
    {
      "cell_type": "markdown",
      "source": [
        " Notice from the trace that the graph continues into the `tools_condition` edge. We just told the graph to treat the update `as_node`=\"chatbot\". If we follow the diagram below and start from the chatbot node, we naturally end up in the `tools_condition` edge and then `__end__` since our updated message lacks tool calls."
      ],
      "metadata": {
        "id": "KGNHFrl_ctuL"
      }
    },
    {
      "cell_type": "code",
      "source": [
        "from IPython.display import Image, display\n",
        "\n",
        "try:\n",
        "    display(Image(graph.get_graph().draw_mermaid_png()))\n",
        "except Exception:\n",
        "    # This requires some extra dependencies and is optional\n",
        "    pass"
      ],
      "metadata": {
        "colab": {
          "base_uri": "https://localhost:8080/",
          "height": 273
        },
        "id": "4_L-JeNFcfnK",
        "outputId": "23385caf-cfca-4dfc-f901-cfa5d0f7c6e4"
      },
      "execution_count": 33,
      "outputs": [
        {
          "output_type": "display_data",
          "data": {
            "image/jpeg": "[encoded data removed]",
            "text/plain": [
              "<IPython.core.display.Image object>"
            ]
          },
          "metadata": {}
        }
      ]
    },
    {
      "cell_type": "markdown",
      "source": [
        "Inspect the current state as before to confirm the checkpoint reflects our manual updates."
      ],
      "metadata": {
        "id": "Ba4C_EAgdAnS"
      }
    },
    {
      "cell_type": "code",
      "source": [
        "snapshot = graph.get_state(config)\n",
        "print(snapshot.values[\"messages\"][-3:])\n",
        "print(snapshot.next)"
      ],
      "metadata": {
        "colab": {
          "base_uri": "https://localhost:8080/"
        },
        "id": "a6Nsz5Xhc20D",
        "outputId": "3bc2693d-3276-46c1-d2f8-dfe016537923"
      },
      "execution_count": 34,
      "outputs": [
        {
          "output_type": "stream",
          "name": "stdout",
          "text": [
            "[ToolMessage(content='LangGraph is a library for building stateful, multi-actor applications with LLMs.', id='b8afb3dd-a92d-46d7-97c9-6b6aba7e7b89', tool_call_id='call_TMrY5T9VERr4jEOus8qTE4uy'), AIMessage(content='LangGraph is a library for building stateful, multi-actor applications with LLMs.', id='1998b258-92cb-4a6d-aaf5-24e9edaf0aaa'), AIMessage(content=\"I'm an AI expert!\", id='831ca7d7-77bb-4228-a83b-0716e22cf36f')]\n",
            "()\n"
          ]
        }
      ]
    },
    {
      "cell_type": "markdown",
      "source": [
        "Notice: that we've continued to add AI messages to the state. Since we are acting as the chatbot and responding with an AIMessage that doesn't contain `tool_calls`, the graph knows that it has entered a finished state (`next` is empty)."
      ],
      "metadata": {
        "id": "4kWuYcyhdJwP"
      }
    },
    {
      "cell_type": "markdown",
      "source": [
        "### What if you want to overwrite existing messages?\n",
        "The `add_messages` function we used to annotate our graph's State above controls how updates are made to the `messages` key. This function looks at any message IDs in the new messages list. If the ID matches a message in the existing state, `add_messages` overwrites the existing message with the new content."
      ],
      "metadata": {
        "id": "YY0D4Ua3dXdE"
      }
    },
    {
      "cell_type": "markdown",
      "source": [
        "As an example, let's update the tool invocation to make sure we get good results from our search engine! First, start a new thread:"
      ],
      "metadata": {
        "id": "v9VNGPQHdfLP"
      }
    },
    {
      "cell_type": "code",
      "source": [
        "user_input = \"I'm learning LangGraph. Could you do some research on it for me?\"\n",
        "config = {\"configurable\": {\"thread_id\": \"2\"}}  # we'll use thread_id = 2 here\n",
        "events = graph.stream(\n",
        "    {\"messages\": [(\"user\", user_input)]}, config, stream_mode=\"values\"\n",
        ")\n",
        "for event in events:\n",
        "    if \"messages\" in event:\n",
        "        event[\"messages\"][-1].pretty_print()"
      ],
      "metadata": {
        "colab": {
          "base_uri": "https://localhost:8080/"
        },
        "id": "xjcm-ImXdCcA",
        "outputId": "644b7308-d18a-48d4-8494-cd2f74f48b97"
      },
      "execution_count": 35,
      "outputs": [
        {
          "output_type": "stream",
          "name": "stdout",
          "text": [
            "================================\u001b[1m Human Message \u001b[0m=================================\n",
            "\n",
            "I'm learning LangGraph. Could you do some research on it for me?\n",
            "==================================\u001b[1m Ai Message \u001b[0m==================================\n",
            "Tool Calls:\n",
            "  tavily_search_results_json (call_hAf3FVhABQwNAptexe6RD53H)\n",
            " Call ID: call_hAf3FVhABQwNAptexe6RD53H\n",
            "  Args:\n",
            "    query: LangGraph\n"
          ]
        }
      ]
    },
    {
      "cell_type": "markdown",
      "source": [
        "**`Next`**, let's update the tool invocation for our agent. Maybe we want to search for `human-in-the-loop` workflows in particular."
      ],
      "metadata": {
        "id": "XKJZ-F5odtKe"
      }
    },
    {
      "cell_type": "code",
      "source": [
        "from langchain_core.messages import AIMessage\n",
        "\n",
        "snapshot = graph.get_state(config)\n",
        "existing_message = snapshot.values[\"messages\"][-1]\n",
        "print(\"Original\")\n",
        "print(\"Message ID\", existing_message.id)\n",
        "print(existing_message.tool_calls[0])\n",
        "new_tool_call = existing_message.tool_calls[0].copy()\n",
        "new_tool_call[\"args\"][\"query\"] = \"LangGraph human-in-the-loop workflow\"\n",
        "new_message = AIMessage(\n",
        "    content=existing_message.content,\n",
        "    tool_calls=[new_tool_call],\n",
        "    # Important! The ID is how LangGraph knows to REPLACE the message in the state rather than APPEND this messages\n",
        "    id=existing_message.id,\n",
        ")\n",
        "\n",
        "print(\"Updated\")\n",
        "print(new_message.tool_calls[0])\n",
        "print(\"Message ID\", new_message.id)\n",
        "graph.update_state(config, {\"messages\": [new_message]})\n",
        "\n",
        "print(\"\\n\\nTool calls\")\n",
        "graph.get_state(config).values[\"messages\"][-1].tool_calls"
      ],
      "metadata": {
        "colab": {
          "base_uri": "https://localhost:8080/"
        },
        "id": "MVKyHWjmdn0G",
        "outputId": "aa1f887b-ffce-44dc-c5f1-2b12ce763bda"
      },
      "execution_count": 36,
      "outputs": [
        {
          "output_type": "stream",
          "name": "stdout",
          "text": [
            "Original\n",
            "Message ID run-7374c3e6-66bd-4c8d-be70-a8910898073f-0\n",
            "{'name': 'tavily_search_results_json', 'args': {'query': 'LangGraph'}, 'id': 'call_hAf3FVhABQwNAptexe6RD53H', 'type': 'tool_call'}\n",
            "Updated\n",
            "{'name': 'tavily_search_results_json', 'args': {'query': 'LangGraph human-in-the-loop workflow'}, 'id': 'call_hAf3FVhABQwNAptexe6RD53H', 'type': 'tool_call'}\n",
            "Message ID run-7374c3e6-66bd-4c8d-be70-a8910898073f-0\n",
            "\n",
            "\n",
            "Tool calls\n"
          ]
        },
        {
          "output_type": "execute_result",
          "data": {
            "text/plain": [
              "[{'name': 'tavily_search_results_json',\n",
              "  'args': {'query': 'LangGraph human-in-the-loop workflow'},\n",
              "  'id': 'call_hAf3FVhABQwNAptexe6RD53H',\n",
              "  'type': 'tool_call'}]"
            ]
          },
          "metadata": {},
          "execution_count": 36
        }
      ]
    },
    {
      "cell_type": "markdown",
      "source": [
        "Notice that we've modified the AI's tool invocation to search for \"LangGraph human-in-the-loop workflow\" instead of the simple \"LangGraph\"."
      ],
      "metadata": {
        "id": "hUpIcYCaeUdZ"
      }
    },
    {
      "cell_type": "markdown",
      "source": [
        "Resume the graph by streaming with an input of `None` and the existing config"
      ],
      "metadata": {
        "id": "OSz1Was_eagu"
      }
    },
    {
      "cell_type": "code",
      "source": [
        "events = graph.stream(None, config, stream_mode=\"values\")\n",
        "for event in events:\n",
        "    if \"messages\" in event:\n",
        "        event[\"messages\"][-1].pretty_print()"
      ],
      "metadata": {
        "colab": {
          "base_uri": "https://localhost:8080/"
        },
        "id": "m2TsdsRfeFJE",
        "outputId": "de067d2d-6939-49b7-b42e-9521eb88c250"
      },
      "execution_count": 37,
      "outputs": [
        {
          "output_type": "stream",
          "name": "stdout",
          "text": [
            "=================================\u001b[1m Tool Message \u001b[0m=================================\n",
            "Name: tavily_search_results_json\n",
            "\n",
            "[{\"url\": \"https://www.youtube.com/watch?v=9BPCV5TYPmg\", \"content\": \"In this video, I'll show you how to handle persistence with LangGraph, enabling a unique Human-in-the-Loop workflow. This approach allows a human to grant an LLM (Language Model) permission to ...\"}, {\"url\": \"https://github.com/langchain-ai/langgraph\", \"content\": \"As a very low-level framework, it provides fine-grained control over both the flow and state of your application, crucial for creating reliable agents. Additionally, LangGraph includes built-in persistence, enabling advanced human-in-the-loop and memory features. LangGraph is inspired by Pregel and Apache Beam.\"}]\n",
            "==================================\u001b[1m Ai Message \u001b[0m==================================\n",
            "\n",
            "Here's what I found about LangGraph:\n",
            "\n",
            "1. **Overview**: LangGraph is a low-level framework designed for building applications with fine-grained control over the flow and state. It is particularly useful for creating reliable agents and includes built-in persistence features.\n",
            "\n",
            "2. **Human-in-the-Loop Workflow**: LangGraph enables a unique Human-in-the-Loop workflow. This approach allows human intervention in the processes involving Language Models (LLMs). For instance, humans can grant permission to the LLM to perform certain actions, enhancing the control and reliability of the system.\n",
            "\n",
            "3. **Inspiration**: The framework is inspired by Pregel and Apache Beam, indicating that it may utilize concepts from these frameworks to handle complex workflows and data processing tasks efficiently.\n",
            "\n",
            "4. **Resources**:\n",
            "   - You can watch a video on handling persistence with LangGraph [here](https://www.youtube.com/watch?v=9BPCV5TYPmg).\n",
            "   - The official GitHub repository for LangGraph can be found [here](https://github.com/langchain-ai/langgraph).\n",
            "\n",
            "If you have any specific questions or need further details, feel free to ask!\n"
          ]
        }
      ]
    },
    {
      "cell_type": "markdown",
      "source": [
        "**`Notice`** that now the graph queries the search engine using our updated query term - we were able to manually override the LLM's search here!\n",
        "\n",
        "All of this is reflected in the graph's checkpointed memory, meaning if we continue the conversation, it will recall all the modified state."
      ],
      "metadata": {
        "id": "R-Yyi6kJe2au"
      }
    },
    {
      "cell_type": "code",
      "source": [
        "events = graph.stream(\n",
        "    {\n",
        "        \"messages\": (\n",
        "            \"user\",\n",
        "            \"Remember what I'm learning about?\",\n",
        "        )\n",
        "    },\n",
        "    config,\n",
        "    stream_mode=\"values\",\n",
        ")\n",
        "for event in events:\n",
        "    if \"messages\" in event:\n",
        "        event[\"messages\"][-1].pretty_print()"
      ],
      "metadata": {
        "colab": {
          "base_uri": "https://localhost:8080/"
        },
        "id": "QiXW9RfTeeSG",
        "outputId": "6c3db25d-b172-41f3-9c16-79794dd5c33a"
      },
      "execution_count": 38,
      "outputs": [
        {
          "output_type": "stream",
          "name": "stdout",
          "text": [
            "================================\u001b[1m Human Message \u001b[0m=================================\n",
            "\n",
            "Remember what I'm learning about?\n",
            "==================================\u001b[1m Ai Message \u001b[0m==================================\n",
            "\n",
            "Yes, you're learning about LangGraph. If you have specific aspects you'd like to explore further or particular questions, feel free to let me know!\n"
          ]
        }
      ]
    },
    {
      "cell_type": "markdown",
      "source": [
        "You've used `interrupt_before` and `update_state` to manually modify the state as a part of a `human-in-the-loop` workflow. Interruptions and state modifications let you control how the agent behaves. Combined with persistent checkpointing, it means you can `pause` an action and `resume` at any point. Your user doesn't have to be available when the graph interrupts!\n",
        "\n",
        "The graph code for this section is identical to previous ones. The key snippets to remember are to add `.compile(..., interrupt_before=[...]) (or interrupt_after)` if you want to explicitly pause the graph whenever it reaches a node. Then you can use `update_state` to modify the checkpoint and control how the graph should proceed."
      ],
      "metadata": {
        "id": "_wEWxqxJfPWb"
      }
    },
    {
      "cell_type": "markdown",
      "source": [
        "## Part 6: Customizing State"
      ],
      "metadata": {
        "id": "iMyWRj-Wfde5"
      }
    },
    {
      "cell_type": "markdown",
      "source": [
        "So far, we've relied on a simple state (it's just a list of messages!). You can go far with this simple state, but if you want to define complex behavior without relying on the message list, you can add additional fields to the state. In this section, we will extend our chat bot with a new node to illustrate this.\n",
        "\n",
        "In the examples above, we involved a human deterministically: the graph always interrupted whenever an tool was invoked. Suppose we wanted our chat bot to have the choice of relying on a human.\n",
        "\n",
        "One way to do this is to create a passthrough` \"human\" node`, before which the graph will always stop. We will only execute this node if the LLM invokes a \"human\" tool. For our convenience, we will include an \"ask_human\" flag in our graph state that we will flip if the LLM calls this tool.\n",
        "\n",
        "Below, define this new graph, with an updated State"
      ],
      "metadata": {
        "id": "PTemWwBnft89"
      }
    },
    {
      "cell_type": "code",
      "source": [
        "class State(TypedDict):\n",
        "    messages: Annotated[list, add_messages]\n",
        "    # This flag is new\n",
        "    ask_human: bool"
      ],
      "metadata": {
        "id": "T9J0mnGAe57o"
      },
      "execution_count": 56,
      "outputs": []
    },
    {
      "cell_type": "markdown",
      "source": [
        "Next, define a schema to show the model to let it decide to request assistance."
      ],
      "metadata": {
        "id": "nm2uXpdtf6wr"
      }
    },
    {
      "cell_type": "code",
      "source": [
        "from langchain_core.pydantic_v1 import BaseModel\n",
        "\n",
        "\n",
        "class RequestAssistance(BaseModel):\n",
        "    \"\"\"Escalate the conversation to an expert. Use this if you are unable to assist directly or if the user requires support beyond your permissions.\n",
        "\n",
        "    To use this function, relay the user's 'request' so the expert can provide the right guidance.\n",
        "    \"\"\"\n",
        "\n",
        "    request: str"
      ],
      "metadata": {
        "id": "q8V7aRbNf3gc"
      },
      "execution_count": 57,
      "outputs": []
    },
    {
      "cell_type": "markdown",
      "source": [
        "Next, define the chatbot node. The primary modification here is flip the ask_human flag if we see that the chat bot has invoked the RequestAssistance flag."
      ],
      "metadata": {
        "id": "FcyBhGpHmgkS"
      }
    },
    {
      "cell_type": "code",
      "source": [
        "tool = TavilySearchResults(max_results=2)\n",
        "tools = [tool]\n",
        "llm = ChatOpenAI(model=\"gpt-4o-mini\")\n",
        "# We can bind the llm to a tool definition, a pydantic model, or a json schema\n",
        "llm_with_tools = llm.bind_tools(tools + [RequestAssistance])\n",
        "\n",
        "\n",
        "def chatbot(state: State):\n",
        "    response = llm_with_tools.invoke(state[\"messages\"])\n",
        "    ask_human = False\n",
        "    if (\n",
        "        response.tool_calls\n",
        "        and response.tool_calls[0][\"name\"] == RequestAssistance.__name__\n",
        "    ):\n",
        "        ask_human = True\n",
        "    return {\"messages\": [response], \"ask_human\": ask_human}"
      ],
      "metadata": {
        "id": "QLqyX7jmmaH6"
      },
      "execution_count": 58,
      "outputs": []
    },
    {
      "cell_type": "markdown",
      "source": [
        "Next, create the graph builder and add the chatbot and tools nodes to the graph, same as before."
      ],
      "metadata": {
        "id": "KVtUZsXanDNi"
      }
    },
    {
      "cell_type": "code",
      "source": [
        "graph_builder = StateGraph(State)\n",
        "\n",
        "graph_builder.add_node(\"chatbot\", chatbot)\n",
        "graph_builder.add_node(\"tools\", ToolNode(tools=[tool]))"
      ],
      "metadata": {
        "id": "hJK858qHm_fM"
      },
      "execution_count": 59,
      "outputs": []
    },
    {
      "cell_type": "markdown",
      "source": [
        "Next, create the \"`human\" node`. This node function is mostly a placeholder in our graph that will trigger an `interrupt`. If the human does not manually update the state during the interrupt, it inserts a tool message so the LLM knows the user was requested but didn't respond. This node also unsets the `ask_human` flag so the graph knows not to revisit the node unless further requests are made."
      ],
      "metadata": {
        "id": "BW4eNUxXnR8p"
      }
    },
    {
      "cell_type": "code",
      "source": [
        "from langchain_core.messages import AIMessage, ToolMessage\n",
        "\n",
        "\n",
        "def create_response(response: str, ai_message: AIMessage):\n",
        "    return ToolMessage(\n",
        "        content=response,\n",
        "        tool_call_id=ai_message.tool_calls[0][\"id\"],\n",
        "    )\n",
        "\n",
        "\n",
        "def human_node(state: State):\n",
        "    new_messages = []\n",
        "    if not isinstance(state[\"messages\"][-1], ToolMessage):\n",
        "        # Typically, the user will have updated the state during the interrupt.\n",
        "        # If they choose not to, we will include a placeholder ToolMessage to\n",
        "        # let the LLM continue.\n",
        "        new_messages.append(\n",
        "            create_response(\"No response from human.\", state[\"messages\"][-1])\n",
        "        )\n",
        "    return {\n",
        "        # Append the new messages\n",
        "        \"messages\": new_messages,\n",
        "        # Unset the flag\n",
        "        \"ask_human\": False,\n",
        "    }\n",
        "\n",
        "\n",
        "graph_builder.add_node(\"human\", human_node)"
      ],
      "metadata": {
        "id": "5UXTm94rnKP3"
      },
      "execution_count": 60,
      "outputs": []
    },
    {
      "cell_type": "markdown",
      "source": [
        "Next, define the conditional logic. The `select_next_node` will route to the human node if the flag is set. Otherwise, it lets the prebuilt `tools_condition` function choose the next node.\n",
        "\n",
        "Recall that the `tools_condition` function simply checks to see if the chatbot has responded with any `tool_calls` in its response message. If so, it routes to the action node. Otherwise, it `ends` the graph."
      ],
      "metadata": {
        "id": "qYpVcxynoHQm"
      }
    },
    {
      "cell_type": "code",
      "source": [
        "def select_next_node(state: State):\n",
        "    if state[\"ask_human\"]:\n",
        "        return \"human\"\n",
        "    # Otherwise, we can route as before\n",
        "    return tools_condition(state)\n",
        "\n",
        "\n",
        "graph_builder.add_conditional_edges(\n",
        "    \"chatbot\",\n",
        "    select_next_node,\n",
        "    {\"human\": \"human\", \"tools\": \"tools\", \"__end__\": \"__end__\"},\n",
        ")"
      ],
      "metadata": {
        "id": "uPrJNL2fn5eM"
      },
      "execution_count": 61,
      "outputs": []
    },
    {
      "cell_type": "markdown",
      "source": [
        "Finally, add the simple directed edges and compile the graph. These edges instruct the graph to always flow from node `a->b` whenever `a` finishes executing."
      ],
      "metadata": {
        "id": "r9uTfnl1oW-x"
      }
    },
    {
      "cell_type": "code",
      "source": [
        "# The rest is the same\n",
        "graph_builder.add_edge(\"tools\", \"chatbot\")\n",
        "graph_builder.add_edge(\"human\", \"chatbot\")\n",
        "graph_builder.add_edge(START, \"chatbot\")\n",
        "memory = MemorySaver()\n",
        "graph = graph_builder.compile(\n",
        "    checkpointer=memory,\n",
        "    # We interrupt before 'human' here instead.\n",
        "    interrupt_before=[\"human\"],\n",
        ")"
      ],
      "metadata": {
        "id": "IkwEFrnIoSFF"
      },
      "execution_count": 62,
      "outputs": []
    },
    {
      "cell_type": "code",
      "source": [
        "from IPython.display import Image, display\n",
        "\n",
        "try:\n",
        "    display(Image(graph.get_graph().draw_mermaid_png()))\n",
        "except Exception:\n",
        "    # This requires some extra dependencies and is optional\n",
        "    pass"
      ],
      "metadata": {
        "colab": {
          "base_uri": "https://localhost:8080/",
          "height": 273
        },
        "id": "OeoOyrDjoj6W",
        "outputId": "de199ccc-9b8d-44c6-9840-135f2a5dd29a"
      },
      "execution_count": 63,
      "outputs": [
        {
          "output_type": "display_data",
          "data": {
            "image/jpeg": "[encoded data removed]",
            "text/plain": [
              "<IPython.core.display.Image object>"
            ]
          },
          "metadata": {}
        }
      ]
    },
    {
      "cell_type": "markdown",
      "source": [
        "The chat bot can either request help from a human `(chatbot->select->human)`, invoke the search engine tool `(chatbot->select->action)`, or directly respond `(chatbot->select->end)`. Once an action or request has been made, the graph will transition back to the `chatbot node` to continue operations."
      ],
      "metadata": {
        "id": "7lU686aHo13h"
      }
    },
    {
      "cell_type": "markdown",
      "source": [
        "Let's see this graph in action. We will request for **expert assistance** to illustrate our graph."
      ],
      "metadata": {
        "id": "N8NOuyaKpBfD"
      }
    },
    {
      "cell_type": "code",
      "source": [
        "user_input = \"I need some expert guidance for building this AI agent. Could you request assistance for me?\"\n",
        "config = {\"configurable\": {\"thread_id\": \"1\"}}\n",
        "# The config is the **second positional argument** to stream() or invoke()!\n",
        "events = graph.stream(\n",
        "    {\"messages\": [(\"user\", user_input)]}, config, stream_mode=\"values\"\n",
        ")\n",
        "for event in events:\n",
        "    if \"messages\" in event:\n",
        "        event[\"messages\"][-1].pretty_print()"
      ],
      "metadata": {
        "colab": {
          "base_uri": "https://localhost:8080/"
        },
        "collapsed": true,
        "id": "zDUtppHfonRT",
        "outputId": "6762b686-0a90-4db6-b8c4-ef263ba6a970"
      },
      "execution_count": 64,
      "outputs": [
        {
          "output_type": "stream",
          "name": "stdout",
          "text": [
            "================================\u001b[1m Human Message \u001b[0m=================================\n",
            "\n",
            "I need some expert guidance for building this AI agent. Could you request assistance for me?\n",
            "==================================\u001b[1m Ai Message \u001b[0m==================================\n",
            "Tool Calls:\n",
            "  RequestAssistance (call_DZwmfucxJkzjthErBknVbybi)\n",
            " Call ID: call_DZwmfucxJkzjthErBknVbybi\n",
            "  Args:\n",
            "    request: I need expert guidance for building an AI agent. Specifically, I'm looking for advice on architecture, necessary technologies, and best practices in the development process.\n"
          ]
        }
      ]
    },
    {
      "cell_type": "markdown",
      "source": [
        "\n",
        "Notice: the LLM has invoked the \"RequestAssistance\" tool we provided it, and the interrupt has been set. Let's inspect the graph state to confirm."
      ],
      "metadata": {
        "id": "aJS5HqEoqdP9"
      }
    },
    {
      "cell_type": "code",
      "source": [
        "snapshot = graph.get_state(config)\n",
        "snapshot.next"
      ],
      "metadata": {
        "colab": {
          "base_uri": "https://localhost:8080/"
        },
        "id": "jrCRgb7rpKDe",
        "outputId": "b80b2eb6-b3a1-446b-c5ca-970f01a85a95"
      },
      "execution_count": 65,
      "outputs": [
        {
          "output_type": "execute_result",
          "data": {
            "text/plain": [
              "('human',)"
            ]
          },
          "metadata": {},
          "execution_count": 65
        }
      ]
    },
    {
      "cell_type": "markdown",
      "source": [
        "The graph state is indeed interrupted before the '`human' node`. We can act as the \"**expert**\" in this scenario and manually update the state by adding a new `ToolMessage` with our input.\n",
        "\n",
        "Next, respond to the chatbot's request by:\n",
        "\n",
        "1. Creating a `ToolMessage` with our response. This will be passed back to the chatbot.\n",
        "2. Calling `update_state` to manually update the graph state."
      ],
      "metadata": {
        "id": "_2tCzDdpqkFz"
      }
    },
    {
      "cell_type": "code",
      "source": [
        "ai_message = snapshot.values[\"messages\"][-1]\n",
        "human_response = (\n",
        "    \"We, the experts are here to help! We'd recommend you check out LangGraph to build your agent.\"\n",
        "    \" It's much more reliable and extensible than simple autonomous agents.\"\n",
        ")\n",
        "tool_message = create_response(human_response, ai_message)\n",
        "graph.update_state(config, {\"messages\": [tool_message]})"
      ],
      "metadata": {
        "colab": {
          "base_uri": "https://localhost:8080/"
        },
        "id": "aeIOiPWcp-K4",
        "outputId": "b839a0e5-633b-4b9e-c7fa-e2072cf8d79a"
      },
      "execution_count": 66,
      "outputs": [
        {
          "output_type": "execute_result",
          "data": {
            "text/plain": [
              "{'configurable': {'thread_id': '1',\n",
              "  'checkpoint_ns': '',\n",
              "  'checkpoint_id': '1ef57e76-b510-6db1-8002-552dce0e27bd'}}"
            ]
          },
          "metadata": {},
          "execution_count": 66
        }
      ]
    },
    {
      "cell_type": "markdown",
      "source": [
        "You can inspect the state to confirm our response was added."
      ],
      "metadata": {
        "id": "_Po0UaJnrMNV"
      }
    },
    {
      "cell_type": "code",
      "source": [
        "graph.get_state(config).values[\"messages\"]"
      ],
      "metadata": {
        "colab": {
          "base_uri": "https://localhost:8080/"
        },
        "id": "ZOYG8Fe7rDkp",
        "outputId": "3736620c-c35a-4351-a3f7-d3b92c1eaa4a"
      },
      "execution_count": 67,
      "outputs": [
        {
          "output_type": "execute_result",
          "data": {
            "text/plain": [
              "[HumanMessage(content='I need some expert guidance for building this AI agent. Could you request assistance for me?', id='e54962e8-5f6e-4b10-b3d0-d7e7e0981f9f'),\n",
              " AIMessage(content='', additional_kwargs={'tool_calls': [{'id': 'call_DZwmfucxJkzjthErBknVbybi', 'function': {'arguments': '{\"request\":\"I need expert guidance for building an AI agent. Specifically, I\\'m looking for advice on architecture, necessary technologies, and best practices in the development process.\"}', 'name': 'RequestAssistance'}, 'type': 'function'}], 'refusal': None}, response_metadata={'token_usage': {'completion_tokens': 44, 'prompt_tokens': 160, 'total_tokens': 204}, 'model_name': 'gpt-4o-mini-2024-07-18', 'system_fingerprint': 'fp_507c9469a1', 'finish_reason': 'tool_calls', 'logprobs': None}, id='run-c4b0517e-d847-41fe-9ae4-cac63bcaf2c9-0', tool_calls=[{'name': 'RequestAssistance', 'args': {'request': \"I need expert guidance for building an AI agent. Specifically, I'm looking for advice on architecture, necessary technologies, and best practices in the development process.\"}, 'id': 'call_DZwmfucxJkzjthErBknVbybi', 'type': 'tool_call'}], usage_metadata={'input_tokens': 160, 'output_tokens': 44, 'total_tokens': 204}),\n",
              " ToolMessage(content=\"We, the experts are here to help! We'd recommend you check out LangGraph to build your agent. It's much more reliable and extensible than simple autonomous agents.\", id='a399409d-b3f4-4171-b0ff-a73487c80f6a', tool_call_id='call_DZwmfucxJkzjthErBknVbybi')]"
            ]
          },
          "metadata": {},
          "execution_count": 67
        }
      ]
    },
    {
      "cell_type": "markdown",
      "source": [
        "Next, **resume** the graph by invoking it with None as the inputs."
      ],
      "metadata": {
        "id": "riWArsK4rpXo"
      }
    },
    {
      "cell_type": "code",
      "source": [
        "events = graph.stream(None, config, stream_mode=\"values\")\n",
        "for event in events:\n",
        "    if \"messages\" in event:\n",
        "        event[\"messages\"][-1].pretty_print()"
      ],
      "metadata": {
        "colab": {
          "base_uri": "https://localhost:8080/"
        },
        "id": "ZnVZwkCIrOh9",
        "outputId": "3b4f9e9e-0a97-467f-9f30-11e7ebed27c7"
      },
      "execution_count": 68,
      "outputs": [
        {
          "output_type": "stream",
          "name": "stdout",
          "text": [
            "=================================\u001b[1m Tool Message \u001b[0m=================================\n",
            "\n",
            "We, the experts are here to help! We'd recommend you check out LangGraph to build your agent. It's much more reliable and extensible than simple autonomous agents.\n",
            "==================================\u001b[1m Ai Message \u001b[0m==================================\n",
            "\n",
            "I have requested expert assistance for you. They recommend using LangGraph to build your AI agent, as it is more reliable and extensible compared to simple autonomous agents. If you have any specific questions about LangGraph or the development process, feel free to ask!\n"
          ]
        }
      ]
    },
    {
      "cell_type": "markdown",
      "source": [
        "**`Notice`** that the chat bot has incorporated the updated state in its final response. Since everything was checkpointed, the \"expert\" human in the loop could perform the update at any time without impacting the graph's execution."
      ],
      "metadata": {
        "id": "CJwKEXkWsE2Z"
      }
    },
    {
      "cell_type": "markdown",
      "source": [
        "## Part 7: Time Travel"
      ],
      "metadata": {
        "id": "dS9bLxh2sgeK"
      }
    },
    {
      "cell_type": "markdown",
      "source": [
        "In a typical chat bot workflow, the user interacts with the bot 1 or more times to accomplish a task. In the previous sections, we saw how to add `memory` and a `human-in-the-loop` to be able to checkpoint our graph state and manually override the state to control future responses.\n",
        "\n",
        "But what if you want to let your user start from a previous response and `\"branch off\"` to explore a separate outcome? Or what if you want users to be able to `\"rewind\"` your assistant's work to fix some mistakes or try a different strategy (**common in applications like autonomous software engineers**)?\n",
        "\n",
        "You can create both of these experiences and more using LangGraph's built-in `\"time travel\"` functionality.\n",
        "\n",
        "In this section, you will \"rewind\" your graph by fetching a checkpoint using the graph's `get_state_history` method. You can then resume execution at this previous point in time.\n",
        "\n",
        "First, recall our chatbot graph. We don't need to make any changes from before:"
      ],
      "metadata": {
        "id": "mOOpgow9s8Bk"
      }
    },
    {
      "cell_type": "markdown",
      "source": [
        "### Full Code so Far!"
      ],
      "metadata": {
        "id": "gohiu1LysSHr"
      }
    },
    {
      "cell_type": "code",
      "source": [
        "from typing import Annotated, Literal\n",
        "\n",
        "from langchain_openai import ChatOpenAI\n",
        "from langchain_community.tools.tavily_search import TavilySearchResults\n",
        "from langchain_core.messages import BaseMessage\n",
        "from langchain_core.pydantic_v1 import BaseModel\n",
        "from typing_extensions import TypedDict\n",
        "\n",
        "from langgraph.checkpoint.memory import MemorySaver\n",
        "from langgraph.graph import StateGraph\n",
        "from langgraph.graph.message import add_messages\n",
        "from langgraph.prebuilt import ToolNode, tools_condition\n",
        "\n",
        "\n",
        "class State(TypedDict):\n",
        "    messages: Annotated[list, add_messages]\n",
        "    # This flag is new\n",
        "    ask_human: bool\n",
        "\n",
        "\n",
        "class RequestAssistance(BaseModel):\n",
        "    \"\"\"Escalate the conversation to an expert. Use this if you are unable to assist directly or if the user requires support beyond your permissions.\n",
        "\n",
        "    To use this function, relay the user's 'request' so the expert can provide the right guidance.\n",
        "    \"\"\"\n",
        "\n",
        "    request: str\n",
        "\n",
        "\n",
        "tool = TavilySearchResults(max_results=2)\n",
        "tools = [tool]\n",
        "llm = ChatOpenAI(model=\"gpt-4o-mini\")\n",
        "# We can bind the llm to a tool definition, a pydantic model, or a json schema\n",
        "llm_with_tools = llm.bind_tools(tools + [RequestAssistance])\n",
        "\n",
        "\n",
        "def chatbot(state: State):\n",
        "    response = llm_with_tools.invoke(state[\"messages\"])\n",
        "    ask_human = False\n",
        "    if (\n",
        "        response.tool_calls\n",
        "        and response.tool_calls[0][\"name\"] == RequestAssistance.__name__\n",
        "    ):\n",
        "        ask_human = True\n",
        "    return {\"messages\": [response], \"ask_human\": ask_human}\n",
        "\n",
        "\n",
        "graph_builder = StateGraph(State)\n",
        "\n",
        "graph_builder.add_node(\"chatbot\", chatbot)\n",
        "graph_builder.add_node(\"tools\", ToolNode(tools=[tool]))\n",
        "\n",
        "\n",
        "def create_response(response: str, ai_message: AIMessage):\n",
        "    return ToolMessage(\n",
        "        content=response,\n",
        "        tool_call_id=ai_message.tool_calls[0][\"id\"],\n",
        "    )\n",
        "\n",
        "\n",
        "def human_node(state: State):\n",
        "    new_messages = []\n",
        "    if not isinstance(state[\"messages\"][-1], ToolMessage):\n",
        "        # Typically, the user will have updated the state during the interrupt.\n",
        "        # If they choose not to, we will include a placeholder ToolMessage to\n",
        "        # let the LLM continue.\n",
        "        new_messages.append(\n",
        "            create_response(\"No response from human.\", state[\"messages\"][-1])\n",
        "        )\n",
        "    return {\n",
        "        # Append the new messages\n",
        "        \"messages\": new_messages,\n",
        "        # Unset the flag\n",
        "        \"ask_human\": False,\n",
        "    }\n",
        "\n",
        "\n",
        "graph_builder.add_node(\"human\", human_node)\n",
        "\n",
        "\n",
        "def select_next_node(state: State):\n",
        "    if state[\"ask_human\"]:\n",
        "        return \"human\"\n",
        "    # Otherwise, we can route as before\n",
        "    return tools_condition(state)\n",
        "\n",
        "\n",
        "graph_builder.add_conditional_edges(\n",
        "    \"chatbot\",\n",
        "    select_next_node,\n",
        "    {\"human\": \"human\", \"tools\": \"tools\", \"__end__\": \"__end__\"},\n",
        ")\n",
        "graph_builder.add_edge(\"tools\", \"chatbot\")\n",
        "graph_builder.add_edge(\"human\", \"chatbot\")\n",
        "graph_builder.set_entry_point(\"chatbot\")\n",
        "memory = MemorySaver()\n",
        "graph = graph_builder.compile(\n",
        "    checkpointer=memory,\n",
        "    interrupt_before=[\"human\"],\n",
        ")"
      ],
      "metadata": {
        "id": "kXmRYcWlr0Pc"
      },
      "execution_count": 69,
      "outputs": []
    },
    {
      "cell_type": "code",
      "source": [
        "from IPython.display import Image, display\n",
        "\n",
        "try:\n",
        "    display(Image(graph.get_graph().draw_mermaid_png()))\n",
        "except Exception:\n",
        "    # This requires some extra dependencies and is optional\n",
        "    pass"
      ],
      "metadata": {
        "colab": {
          "base_uri": "https://localhost:8080/",
          "height": 273
        },
        "id": "AeZdaApwshnI",
        "outputId": "f92b6c64-28a1-423f-8f57-b2c996a3fea9"
      },
      "execution_count": 70,
      "outputs": [
        {
          "output_type": "display_data",
          "data": {
            "image/jpeg": "[encoded data removed]",
            "text/plain": [
              "<IPython.core.display.Image object>"
            ]
          },
          "metadata": {}
        }
      ]
    },
    {
      "cell_type": "markdown",
      "source": [
        "Let's have our graph take a couple steps. Every step will be checkpointed in its state history:"
      ],
      "metadata": {
        "id": "d528Ik4Uta2U"
      }
    },
    {
      "cell_type": "code",
      "source": [
        "config = {\"configurable\": {\"thread_id\": \"1\"}}\n",
        "events = graph.stream(\n",
        "    {\n",
        "        \"messages\": [\n",
        "            (\"user\", \"I'm learning LangGraph. Could you do some research on it for me?\")\n",
        "        ]\n",
        "    },\n",
        "    config,\n",
        "    stream_mode=\"values\",\n",
        ")\n",
        "for event in events:\n",
        "    if \"messages\" in event:\n",
        "        event[\"messages\"][-1].pretty_print()"
      ],
      "metadata": {
        "colab": {
          "base_uri": "https://localhost:8080/"
        },
        "id": "2BIjgtEktU1q",
        "outputId": "a0fbfd64-d163-4c4f-c1e5-5cdf52dddfb7"
      },
      "execution_count": 71,
      "outputs": [
        {
          "output_type": "stream",
          "name": "stdout",
          "text": [
            "================================\u001b[1m Human Message \u001b[0m=================================\n",
            "\n",
            "I'm learning LangGraph. Could you do some research on it for me?\n",
            "==================================\u001b[1m Ai Message \u001b[0m==================================\n",
            "Tool Calls:\n",
            "  tavily_search_results_json (call_aC7UcSemLl7ksINRyhjpkRoG)\n",
            " Call ID: call_aC7UcSemLl7ksINRyhjpkRoG\n",
            "  Args:\n",
            "    query: LangGraph\n",
            "=================================\u001b[1m Tool Message \u001b[0m=================================\n",
            "Name: tavily_search_results_json\n",
            "\n",
            "[{\"url\": \"https://langchain-ai.github.io/langgraph/tutorials/\", \"content\": \"LangGraph is a framework for building language agents as graphs. Learn how to use LangGraph to create chatbots, code assistants, planning agents, reflection agents, and more with these notebooks.\"}, {\"url\": \"https://github.com/langchain-ai/langgraph\", \"content\": \"LangGraph is a library for creating stateful, multi-actor applications with LLMs, using cycles, controllability, and persistence. Learn how to use LangGraph with examples, integration with LangChain, and streaming support.\"}]\n",
            "==================================\u001b[1m Ai Message \u001b[0m==================================\n",
            "\n",
            "Here are some key resources and information about LangGraph:\n",
            "\n",
            "1. **Overview of LangGraph**:\n",
            "   - LangGraph is a framework designed for building language agents using graph structures. It allows developers to create various types of agents, including chatbots, code assistants, planning agents, and reflection agents. You can explore tutorials and documentation to get started with LangGraph [here](https://langchain-ai.github.io/langgraph/tutorials/).\n",
            "\n",
            "2. **GitHub Repository**:\n",
            "   - The LangGraph library is available on GitHub, where you can find the source code, examples, and integration details with LangChain. The library supports creating stateful, multi-actor applications utilizing cycles, controllability, and persistence. You can check out the repository [here](https://github.com/langchain-ai/langgraph).\n",
            "\n",
            "These resources should help you understand how to use LangGraph effectively and explore its capabilities. If you have any specific questions or need further details, feel free to ask!\n"
          ]
        }
      ]
    },
    {
      "cell_type": "code",
      "source": [
        "events = graph.stream(\n",
        "    {\n",
        "        \"messages\": [\n",
        "            (\"user\", \"Ya that's helpful. Maybe I'll build an autonomous agent with it!\")\n",
        "        ]\n",
        "    },\n",
        "    config,\n",
        "    stream_mode=\"values\",\n",
        ")\n",
        "for event in events:\n",
        "    if \"messages\" in event:\n",
        "        event[\"messages\"][-1].pretty_print()"
      ],
      "metadata": {
        "colab": {
          "base_uri": "https://localhost:8080/"
        },
        "id": "5xh2rmpPtf10",
        "outputId": "3f3cc2fb-a3f5-4b14-cf55-15a06961cc08"
      },
      "execution_count": 72,
      "outputs": [
        {
          "output_type": "stream",
          "name": "stdout",
          "text": [
            "================================\u001b[1m Human Message \u001b[0m=================================\n",
            "\n",
            "Ya that's helpful. Maybe I'll build an autonomous agent with it!\n",
            "==================================\u001b[1m Ai Message \u001b[0m==================================\n",
            "\n",
            "That sounds like an exciting project! Building an autonomous agent with LangGraph could lead to some innovative applications. If you need any assistance, resources, or ideas as you work on your project, feel free to reach out. Good luck with your development!\n"
          ]
        }
      ]
    },
    {
      "cell_type": "markdown",
      "source": [
        "Now that we've had the agent take a couple steps, we can replay the `full state history` to see everything that occurred."
      ],
      "metadata": {
        "id": "BBPnUCpAuEh7"
      }
    },
    {
      "cell_type": "code",
      "source": [
        "to_replay = None\n",
        "for state in graph.get_state_history(config):\n",
        "    print(\"Num Messages: \", len(state.values[\"messages\"]), \"Next: \", state.next)\n",
        "    print(\"-\" * 80)\n",
        "    if len(state.values[\"messages\"]) == 5:\n",
        "        # We are somewhat arbitrarily selecting a specific state based on the number of chat messages in the state.\n",
        "        to_replay = state"
      ],
      "metadata": {
        "colab": {
          "base_uri": "https://localhost:8080/"
        },
        "id": "H0Zju2KDt1xL",
        "outputId": "abc97b88-2bed-469c-fc99-cacf2e10de04"
      },
      "execution_count": 77,
      "outputs": [
        {
          "output_type": "stream",
          "name": "stdout",
          "text": [
            "Num Messages:  6 Next:  ()\n",
            "--------------------------------------------------------------------------------\n",
            "Num Messages:  5 Next:  ('chatbot',)\n",
            "--------------------------------------------------------------------------------\n",
            "Num Messages:  4 Next:  ('__start__',)\n",
            "--------------------------------------------------------------------------------\n",
            "Num Messages:  4 Next:  ()\n",
            "--------------------------------------------------------------------------------\n",
            "Num Messages:  3 Next:  ('chatbot',)\n",
            "--------------------------------------------------------------------------------\n",
            "Num Messages:  2 Next:  ('tools',)\n",
            "--------------------------------------------------------------------------------\n",
            "Num Messages:  1 Next:  ('chatbot',)\n",
            "--------------------------------------------------------------------------------\n",
            "Num Messages:  0 Next:  ('__start__',)\n",
            "--------------------------------------------------------------------------------\n"
          ]
        }
      ]
    },
    {
      "cell_type": "markdown",
      "source": [
        "Notice that checkpoints are saved for every step of the graph. This **spans invocations** so you can rewind across a full thread's history. We've picked out `to_replay` as a state to `resume` from. This is the state after the `chatbot` node in the second graph invocation above.\n",
        "\n",
        "Resuming from this point should call the `action` node next."
      ],
      "metadata": {
        "id": "kOGNCXyXusIT"
      }
    },
    {
      "cell_type": "code",
      "source": [
        "print(to_replay.next)\n",
        "print(to_replay.config)"
      ],
      "metadata": {
        "colab": {
          "base_uri": "https://localhost:8080/"
        },
        "id": "ecmN4n82uYxW",
        "outputId": "73ba6117-f2b2-4ab0-b825-e784e4051b8c"
      },
      "execution_count": 78,
      "outputs": [
        {
          "output_type": "stream",
          "name": "stdout",
          "text": [
            "('chatbot',)\n",
            "{'configurable': {'thread_id': '1', 'checkpoint_ns': '', 'checkpoint_id': '1ef57e91-e617-6cc9-8005-2ae6c3b39736'}}\n"
          ]
        }
      ]
    },
    {
      "cell_type": "markdown",
      "source": [
        "Notice that the checkpoint's config `(to_replay.config) `contains a `thread_ts` timestamp. Providing this `thread_ts` value tells LangGraph's checkpointer to load the state from that moment in time. Let's try it below:"
      ],
      "metadata": {
        "id": "XYY00hTLvK_M"
      }
    },
    {
      "cell_type": "code",
      "source": [
        "# The `thread_ts` in the `to_replay.config` corresponds to a state we've persisted to our checkpointer.\n",
        "for event in graph.stream(None, to_replay.config, stream_mode=\"values\"):\n",
        "    if \"messages\" in event:\n",
        "        event[\"messages\"][-1].pretty_print()"
      ],
      "metadata": {
        "colab": {
          "base_uri": "https://localhost:8080/"
        },
        "id": "-Ep107Luu2M6",
        "outputId": "a3f611e5-a551-42e1-b3d5-878b5acd58d3"
      },
      "execution_count": 79,
      "outputs": [
        {
          "output_type": "stream",
          "name": "stdout",
          "text": [
            "==================================\u001b[1m Ai Message \u001b[0m==================================\n",
            "\n",
            "That sounds like an exciting project! Building an autonomous agent with LangGraph could lead to some innovative applications. If you need any assistance, resources, or ideas as you work on your project, feel free to reach out. Good luck with your development!\n"
          ]
        }
      ]
    },
    {
      "cell_type": "markdown",
      "source": [
        "## Congrats! That's the end of tutorial! Hope you enjoyed!!!"
      ],
      "metadata": {
        "id": "rJtFkbgQv4Rh"
      }
    },
    {
      "cell_type": "code",
      "source": [],
      "metadata": {
        "id": "-bI1hyF6vTwX"
      },
      "execution_count": null,
      "outputs": []
    }
  ]
}